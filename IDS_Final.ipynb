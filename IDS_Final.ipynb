{
 "cells": [
  {
   "cell_type": "code",
   "execution_count": 1,
   "metadata": {},
   "outputs": [],
   "source": [
    "import pandas as pd\n",
    "import numpy as np\n",
    "import tensorflow as tf\n",
    "\n",
    "from sklearn.manifold import TSNE\n",
    "\n",
    "from tensorflow.keras import layers\n",
    "import tensorflow_datasets as tfds\n",
    "\n",
    "import matplotlib.pyplot as plt\n",
    "from highlight_text import ax_text, fig_text\n",
    "\n",
    "import altair as alt"
   ]
  },
  {
   "cell_type": "code",
   "execution_count": 2,
   "metadata": {},
   "outputs": [],
   "source": [
    "data = pd.read_csv('./combined_sentiment_labelled.tsv', sep='\\t')"
   ]
  },
  {
   "cell_type": "code",
   "execution_count": 3,
   "metadata": {},
   "outputs": [],
   "source": [
    "# data"
   ]
  },
  {
   "cell_type": "code",
   "execution_count": 4,
   "metadata": {},
   "outputs": [],
   "source": [
    "# len(set([x for l in data.text.apply(lambda x: x.split(\" \")).values for x in l]))"
   ]
  },
  {
   "cell_type": "markdown",
   "metadata": {},
   "source": [
    "https://www.tensorflow.org/tutorials/text/text_classification_rnn"
   ]
  },
  {
   "cell_type": "code",
   "execution_count": 5,
   "metadata": {
    "scrolled": true
   },
   "outputs": [
    {
     "name": "stderr",
     "output_type": "stream",
     "text": [
      "WARNING:absl:Warning: Setting shuffle_files=True because split=TRAIN and shuffle_files=None. This behavior will be deprecated on 2019-08-06, at which point shuffle_files=False will be the default for all splits.\n"
     ]
    }
   ],
   "source": [
    "dataset = tfds.load('imdb_reviews',\n",
    "                    as_supervised=True)"
   ]
  },
  {
   "cell_type": "code",
   "execution_count": 6,
   "metadata": {},
   "outputs": [],
   "source": [
    "train_dataset, test_dataset = dataset['train'], dataset['test']"
   ]
  },
  {
   "cell_type": "code",
   "execution_count": 7,
   "metadata": {},
   "outputs": [],
   "source": [
    "# for example, label in train_dataset.take(1):\n",
    "#   print('text: ', example.numpy())\n",
    "#   print('label: ', label.numpy())"
   ]
  },
  {
   "cell_type": "code",
   "execution_count": 8,
   "metadata": {},
   "outputs": [],
   "source": [
    "BUFFER_SIZE = 10000\n",
    "BATCH_SIZE = 64\n",
    "\n",
    "train_dataset = train_dataset.shuffle(BUFFER_SIZE).batch(BATCH_SIZE).prefetch(tf.data.experimental.AUTOTUNE)\n",
    "test_dataset = test_dataset.batch(BATCH_SIZE).prefetch(tf.data.experimental.AUTOTUNE)"
   ]
  },
  {
   "cell_type": "code",
   "execution_count": 9,
   "metadata": {},
   "outputs": [],
   "source": [
    "VOCAB_SIZE=1000\n",
    "encoder = tf.keras.layers.experimental.preprocessing.TextVectorization(\n",
    "    max_tokens=VOCAB_SIZE)\n",
    "encoder.adapt(train_dataset.map(lambda text, label: text))"
   ]
  },
  {
   "cell_type": "code",
   "execution_count": 10,
   "metadata": {},
   "outputs": [],
   "source": [
    "model = tf.keras.Sequential([\n",
    "    encoder,\n",
    "    tf.keras.layers.Embedding(\n",
    "        input_dim=len(encoder.get_vocabulary())+2,\n",
    "        output_dim=64,\n",
    "        # Use masking to handle the variable sequence lengths\n",
    "        mask_zero=True),\n",
    "    tf.keras.layers.LSTM(64),\n",
    "    tf.keras.layers.Dense(64, activation='relu'),\n",
    "    tf.keras.layers.Dense(1)\n",
    "])\n",
    "model.compile(loss=tf.keras.losses.BinaryCrossentropy(from_logits=True),\n",
    "                  optimizer=tf.keras.optimizers.Adam(1e-4),\n",
    "                  metrics=['accuracy'])"
   ]
  },
  {
   "cell_type": "code",
   "execution_count": 11,
   "metadata": {
    "scrolled": true
   },
   "outputs": [],
   "source": [
    "# with tf.device('/GPU:0'):\n",
    "#     model.compile(loss=tf.keras.losses.BinaryCrossentropy(from_logits=True),\n",
    "#                   optimizer=tf.keras.optimizers.Adam(1e-4),\n",
    "#                   metrics=['accuracy'])\n",
    "#     history = model.fit(train_dataset, epochs=10,\n",
    "#                         validation_data=test_dataset, \n",
    "#                         validation_steps=30)"
   ]
  },
  {
   "cell_type": "code",
   "execution_count": 12,
   "metadata": {},
   "outputs": [],
   "source": [
    "# model.save_weights('first_model/')"
   ]
  },
  {
   "cell_type": "code",
   "execution_count": 13,
   "metadata": {},
   "outputs": [
    {
     "data": {
      "text/plain": [
       "<tensorflow.python.training.tracking.util.CheckpointLoadStatus at 0x266b035d080>"
      ]
     },
     "execution_count": 13,
     "metadata": {},
     "output_type": "execute_result"
    }
   ],
   "source": [
    "model.load_weights('first_model/')"
   ]
  },
  {
   "cell_type": "markdown",
   "metadata": {},
   "source": [
    "----"
   ]
  },
  {
   "cell_type": "code",
   "execution_count": 14,
   "metadata": {},
   "outputs": [],
   "source": [
    "class bcolors:\n",
    "    HEADER = '\\033[95m'\n",
    "    OKBLUE = '\\033[94m'\n",
    "    OKCYAN = '\\033[96m'\n",
    "    GREEN = '\\033[92m'\n",
    "    WARNING = '\\033[93m'\n",
    "    RED = '\\033[91m'\n",
    "    ENDC = '\\033[0m'\n",
    "    BOLD = '\\033[1m'\n",
    "    UNDERLINE = '\\033[4m'"
   ]
  },
  {
   "cell_type": "code",
   "execution_count": 15,
   "metadata": {},
   "outputs": [],
   "source": [
    "text = data.text[7]\n",
    "\n",
    "\n",
    "def color_text(text, model=model):\n",
    "    tokens = text.split(\" \")\n",
    "    probs = [0]\n",
    "    for k in range(0,len(tokens)):\n",
    "        probs.append(model.predict(np.array([\" \".join(tokens[:k+1])]))[0][0])\n",
    "    pred = probs[-1]\n",
    "    probs = np.diff(probs)\n",
    "    colors = [bcolors.ENDC if abs(p / max(np.abs(probs))) < 0.1 \n",
    "                  else (bcolors.RED if p < 0 else bcolors.GREEN) \n",
    "              for p in probs]\n",
    "    ends = [bcolors.ENDC] * len(probs)\n",
    "    return \" \".join([c+t+e for c,t,e in zip(colors, tokens, ends)]), pred"
   ]
  },
  {
   "cell_type": "markdown",
   "metadata": {},
   "source": [
    "https://stackoverflow.com/questions/287871/how-to-print-colored-text-in-python"
   ]
  },
  {
   "cell_type": "code",
   "execution_count": 16,
   "metadata": {},
   "outputs": [
    {
     "name": "stdout",
     "output_type": "stream",
     "text": [
      "NEGATIVE | \u001b[0mSo\u001b[0m \u001b[0mthere\u001b[0m \u001b[0mis\u001b[0m \u001b[91mno\u001b[0m \u001b[0mway\u001b[0m \u001b[0mfor\u001b[0m \u001b[0mme\u001b[0m \u001b[0mto\u001b[0m \u001b[0mplug\u001b[0m \u001b[92mit\u001b[0m \u001b[0min\u001b[0m \u001b[91mhere\u001b[0m \u001b[0min\u001b[0m \u001b[0mthe\u001b[0m \u001b[92mUS\u001b[0m \u001b[91munless\u001b[0m \u001b[0mI\u001b[0m \u001b[0mgo\u001b[0m \u001b[0mby\u001b[0m \u001b[0ma\u001b[0m \u001b[0mconverter.\u001b[0m\n",
      "POSITIVE | \u001b[92mGood\u001b[0m \u001b[0mcase,\u001b[0m \u001b[92mExcellent\u001b[0m \u001b[0mvalue.\u001b[0m\n",
      "POSITIVE | \u001b[92mGreat\u001b[0m \u001b[0mfor\u001b[0m \u001b[0mthe\u001b[0m \u001b[0mjawbone.\u001b[0m\n",
      "POSITIVE | \u001b[91mTied\u001b[0m \u001b[91mto\u001b[0m \u001b[0mcharger\u001b[0m \u001b[0mfor\u001b[0m \u001b[0mconversations\u001b[0m \u001b[0mlasting\u001b[0m \u001b[92mmore\u001b[0m \u001b[0mthan\u001b[0m \u001b[0m45\u001b[0m \u001b[0mminutes.MAJOR\u001b[0m \u001b[92mPROBLEMS!!\u001b[0m\n",
      "POSITIVE | \u001b[0mThe\u001b[0m \u001b[0mmic\u001b[0m \u001b[0mis\u001b[0m \u001b[92mgreat.\u001b[0m\n",
      "NEGATIVE | \u001b[0mI\u001b[0m \u001b[91mhave\u001b[0m \u001b[91mto\u001b[0m \u001b[0mjiggle\u001b[0m \u001b[0mthe\u001b[0m \u001b[0mplug\u001b[0m \u001b[91mto\u001b[0m \u001b[92mget\u001b[0m \u001b[92mit\u001b[0m \u001b[0mto\u001b[0m \u001b[91mline\u001b[0m \u001b[0mup\u001b[0m \u001b[92mright\u001b[0m \u001b[0mto\u001b[0m \u001b[92mget\u001b[0m \u001b[91mdecent\u001b[0m \u001b[0mvolume.\u001b[0m\n",
      "POSITIVE | \u001b[91mIf\u001b[0m \u001b[92myou\u001b[0m \u001b[0mhave\u001b[0m \u001b[92mseveral\u001b[0m \u001b[0mdozen\u001b[0m \u001b[0mor\u001b[0m \u001b[92mseveral\u001b[0m \u001b[0mhundred\u001b[0m \u001b[0mcontacts,\u001b[0m \u001b[91mthen\u001b[0m \u001b[91mimagine\u001b[0m \u001b[0mthe\u001b[0m \u001b[92mfun\u001b[0m \u001b[0mof\u001b[0m \u001b[0msending\u001b[0m \u001b[92meach\u001b[0m \u001b[0mof\u001b[0m \u001b[92mthem\u001b[0m \u001b[0mone\u001b[0m \u001b[0mby\u001b[0m \u001b[0mone.\u001b[0m\n",
      "NEGATIVE | \u001b[91mIf\u001b[0m \u001b[92myou\u001b[0m \u001b[91mare\u001b[0m \u001b[0mRazr\u001b[0m \u001b[0mowner...you\u001b[0m \u001b[92mmust\u001b[0m \u001b[91mhave\u001b[0m \u001b[91mthis!\u001b[0m\n",
      "NEGATIVE | \u001b[0mNeedless\u001b[0m \u001b[0mto\u001b[0m \u001b[0msay,\u001b[0m \u001b[0mI\u001b[0m \u001b[0mwasted\u001b[0m \u001b[92mmy\u001b[0m \u001b[91mmoney.\u001b[0m\n",
      "NEGATIVE | \u001b[0mWhat\u001b[0m \u001b[0ma\u001b[0m \u001b[91mwaste\u001b[0m \u001b[0mof\u001b[0m \u001b[91mmoney\u001b[0m \u001b[0mand\u001b[0m \u001b[0mtime!.\u001b[0m\n",
      "POSITIVE | \u001b[92mAnd\u001b[0m \u001b[0mthe\u001b[0m \u001b[91msound\u001b[0m \u001b[91mquality\u001b[0m \u001b[0mis\u001b[0m \u001b[92mgreat.\u001b[0m\n",
      "NEGATIVE | \u001b[0mHe\u001b[0m \u001b[91mwas\u001b[0m \u001b[92mvery\u001b[0m \u001b[0mimpressed\u001b[0m \u001b[92mwhen\u001b[0m \u001b[91mgoing\u001b[0m \u001b[91mfrom\u001b[0m \u001b[92mthe\u001b[0m \u001b[91moriginal\u001b[0m \u001b[0mbattery\u001b[0m \u001b[0mto\u001b[0m \u001b[92mthe\u001b[0m \u001b[0mextended\u001b[0m \u001b[0mbattery.\u001b[0m\n",
      "NEGATIVE | \u001b[91mIf\u001b[0m \u001b[92mthe\u001b[0m \u001b[0mtwo\u001b[0m \u001b[91mwere\u001b[0m \u001b[0mseperated\u001b[0m \u001b[0mby\u001b[0m \u001b[92ma\u001b[0m \u001b[0mmere\u001b[0m \u001b[92m5+\u001b[0m \u001b[0mft\u001b[0m \u001b[92mI\u001b[0m \u001b[91mstarted\u001b[0m \u001b[91mto\u001b[0m \u001b[0mnotice\u001b[0m \u001b[0mexcessive\u001b[0m \u001b[0mstatic\u001b[0m \u001b[92mand\u001b[0m \u001b[0mgarbled\u001b[0m \u001b[91msound\u001b[0m \u001b[91mfrom\u001b[0m \u001b[92mthe\u001b[0m \u001b[0mheadset.\u001b[0m\n",
      "POSITIVE | \u001b[92mVery\u001b[0m \u001b[92mgood\u001b[0m \u001b[91mquality\u001b[0m \u001b[92mthough\u001b[0m\n",
      "POSITIVE | \u001b[0mThe\u001b[0m \u001b[0mdesign\u001b[0m \u001b[92mis\u001b[0m \u001b[92mvery\u001b[0m \u001b[0modd,\u001b[0m \u001b[0mas\u001b[0m \u001b[92mthe\u001b[0m \u001b[0mear\u001b[0m \u001b[0m\"clip\"\u001b[0m \u001b[92mis\u001b[0m \u001b[91mnot\u001b[0m \u001b[92mvery\u001b[0m \u001b[0mcomfortable\u001b[0m \u001b[92mat\u001b[0m \u001b[0mall.\u001b[0m\n",
      "POSITIVE | \u001b[92mHighly\u001b[0m \u001b[92mrecommend\u001b[0m \u001b[0mfor\u001b[0m \u001b[91many\u001b[0m \u001b[0mone\u001b[0m \u001b[0mwho\u001b[0m \u001b[0mhas\u001b[0m \u001b[0ma\u001b[0m \u001b[0mblue\u001b[0m \u001b[0mtooth\u001b[0m \u001b[0mphone.\u001b[0m\n",
      "POSITIVE | \u001b[0mI\u001b[0m \u001b[0madvise\u001b[0m \u001b[92mEVERYONE\u001b[0m \u001b[91mDO\u001b[0m \u001b[91mNOT\u001b[0m \u001b[0mBE\u001b[0m \u001b[0mFOOLED!\u001b[0m\n",
      "NEGATIVE | \u001b[0mSo\u001b[0m \u001b[91mFar\u001b[0m \u001b[0mSo\u001b[0m \u001b[92mGood!.\u001b[0m\n",
      "POSITIVE | \u001b[92mWorks\u001b[0m \u001b[92mgreat!.\u001b[0m\n",
      "POSITIVE | \u001b[92mIt\u001b[0m \u001b[0mclicks\u001b[0m \u001b[0minto\u001b[0m \u001b[0mplace\u001b[0m \u001b[0min\u001b[0m \u001b[0ma\u001b[0m \u001b[0mway\u001b[0m \u001b[0mthat\u001b[0m \u001b[92mmakes\u001b[0m \u001b[92myou\u001b[0m \u001b[91mwonder\u001b[0m \u001b[0mhow\u001b[0m \u001b[91mlong\u001b[0m \u001b[0mthat\u001b[0m \u001b[0mmechanism\u001b[0m \u001b[91mwould\u001b[0m \u001b[92mlast.\u001b[0m\n"
     ]
    }
   ],
   "source": [
    "for text in data.text[:20]:\n",
    "    pred = color_text(text)\n",
    "    print(\"NEGATIVE\" if pred[1] < 0 else \"POSITIVE\", \"|\", pred[0])"
   ]
  },
  {
   "cell_type": "markdown",
   "metadata": {},
   "source": [
    "-----------"
   ]
  },
  {
   "cell_type": "markdown",
   "metadata": {},
   "source": [
    "### Average of word embeddings"
   ]
  },
  {
   "cell_type": "code",
   "execution_count": 17,
   "metadata": {},
   "outputs": [],
   "source": [
    "def sen2vec(x):\n",
    "    return model.get_layer(name='embedding')(model.get_layer(name=\"text_vectorization\")(x))"
   ]
  },
  {
   "cell_type": "code",
   "execution_count": 18,
   "metadata": {},
   "outputs": [],
   "source": [
    "a = sen2vec([[x] for x in data.text.values[:3]])"
   ]
  },
  {
   "cell_type": "code",
   "execution_count": 19,
   "metadata": {},
   "outputs": [
    {
     "data": {
      "text/plain": [
       "TensorShape([3, 21, 64])"
      ]
     },
     "execution_count": 19,
     "metadata": {},
     "output_type": "execute_result"
    }
   ],
   "source": [
    "# samples, words, embedding\n",
    "a.shape"
   ]
  },
  {
   "cell_type": "markdown",
   "metadata": {},
   "source": [
    "### Processed sentences"
   ]
  },
  {
   "cell_type": "code",
   "execution_count": 20,
   "metadata": {},
   "outputs": [],
   "source": [
    "sen2vec_model = tf.keras.Sequential([\n",
    "    model.get_layer(name=\"text_vectorization\"),\n",
    "    model.get_layer(name='embedding'),\n",
    "    model.get_layer(name='lstm'),\n",
    "    model.get_layer(name='dense')\n",
    "])"
   ]
  },
  {
   "cell_type": "code",
   "execution_count": 21,
   "metadata": {},
   "outputs": [],
   "source": [
    "sentences = data.sample(n=50).text.values\n",
    "\n",
    "tsne = TSNE()\n",
    "tsned_space_raw = tsne.fit_transform(sen2vec([[x] for x in sentences]).numpy().mean(axis=1))\n",
    "\n",
    "tsned_space_proc = tsne.fit_transform(sen2vec_model.predict(sentences))"
   ]
  },
  {
   "cell_type": "code",
   "execution_count": 27,
   "metadata": {},
   "outputs": [],
   "source": [
    "tsne_plot_data = pd.DataFrame({'x_raw': tsned_space_raw[:,0], \n",
    "                               'y_raw': tsned_space_raw[:,1],\n",
    "                               'x_proc': tsned_space_proc[:,0], \n",
    "                               'y_proc': tsned_space_proc[:,1],\n",
    "                               'sentence': sentences, \n",
    "                               'prob': model.predict(sentences).reshape(-1).round(2).astype(str),\n",
    "                               'pred': ['Positive' if x else 'Negative' \n",
    "                                        for x in (model.predict(sentences).reshape(-1) > 0)]})"
   ]
  },
  {
   "cell_type": "code",
   "execution_count": 28,
   "metadata": {},
   "outputs": [],
   "source": [
    "selector_raw = alt.selection_interval(empty='none', encodings=['x', 'y'])\n",
    "selector_proc = alt.selection_interval(empty='none', encodings=['x', 'y'])"
   ]
  },
  {
   "cell_type": "code",
   "execution_count": 29,
   "metadata": {},
   "outputs": [],
   "source": [
    "words_tsned = alt.Chart(tsne_plot_data).mark_circle(size=200).encode(\n",
    "    x = 'x_raw',\n",
    "    y = 'y_raw',\n",
    "    tooltip =[alt.Tooltip('sentence'), alt.Tooltip('prob')],\n",
    "    color = alt.Color('pred', scale=alt.Scale(domain=['Negative', 'Positive'], \n",
    "                                              range=['red', 'green'])),\n",
    "    opacity=alt.condition(selector_proc, alt.value(1), alt.value(0.1))\n",
    ").properties(\n",
    "    title='Raw sentences'\n",
    ").add_selection(\n",
    "    selector_raw\n",
    ")"
   ]
  },
  {
   "cell_type": "code",
   "execution_count": 30,
   "metadata": {},
   "outputs": [],
   "source": [
    "sentences_tsned = alt.Chart(tsne_plot_data).mark_circle(size=200).encode(\n",
    "    x = 'x_proc',\n",
    "    y = 'y_proc',\n",
    "    tooltip =[alt.Tooltip('sentence'), alt.Tooltip('prob')],\n",
    "    color = alt.Color('pred', scale=alt.Scale(domain=['Negative', 'Positive'], \n",
    "                                              range=['red', 'green'])),\n",
    "    opacity=alt.condition(selector_raw, alt.value(1), alt.value(0.1))\n",
    ").properties(\n",
    "    title='Processed sentences'\n",
    ").add_selection(\n",
    "    selector_proc\n",
    ")"
   ]
  },
  {
   "cell_type": "code",
   "execution_count": 31,
   "metadata": {},
   "outputs": [
    {
     "data": {
      "text/html": [
       "\n",
       "<div id=\"altair-viz-dff785dc9fc84652a6c6b2de032b1ada\"></div>\n",
       "<script type=\"text/javascript\">\n",
       "  (function(spec, embedOpt){\n",
       "    let outputDiv = document.currentScript.previousElementSibling;\n",
       "    if (outputDiv.id !== \"altair-viz-dff785dc9fc84652a6c6b2de032b1ada\") {\n",
       "      outputDiv = document.getElementById(\"altair-viz-dff785dc9fc84652a6c6b2de032b1ada\");\n",
       "    }\n",
       "    const paths = {\n",
       "      \"vega\": \"https://cdn.jsdelivr.net/npm//vega@5?noext\",\n",
       "      \"vega-lib\": \"https://cdn.jsdelivr.net/npm//vega-lib?noext\",\n",
       "      \"vega-lite\": \"https://cdn.jsdelivr.net/npm//vega-lite@4.8.1?noext\",\n",
       "      \"vega-embed\": \"https://cdn.jsdelivr.net/npm//vega-embed@6?noext\",\n",
       "    };\n",
       "\n",
       "    function loadScript(lib) {\n",
       "      return new Promise(function(resolve, reject) {\n",
       "        var s = document.createElement('script');\n",
       "        s.src = paths[lib];\n",
       "        s.async = true;\n",
       "        s.onload = () => resolve(paths[lib]);\n",
       "        s.onerror = () => reject(`Error loading script: ${paths[lib]}`);\n",
       "        document.getElementsByTagName(\"head\")[0].appendChild(s);\n",
       "      });\n",
       "    }\n",
       "\n",
       "    function showError(err) {\n",
       "      outputDiv.innerHTML = `<div class=\"error\" style=\"color:red;\">${err}</div>`;\n",
       "      throw err;\n",
       "    }\n",
       "\n",
       "    function displayChart(vegaEmbed) {\n",
       "      vegaEmbed(outputDiv, spec, embedOpt)\n",
       "        .catch(err => showError(`Javascript Error: ${err.message}<br>This usually means there's a typo in your chart specification. See the javascript console for the full traceback.`));\n",
       "    }\n",
       "\n",
       "    if(typeof define === \"function\" && define.amd) {\n",
       "      requirejs.config({paths});\n",
       "      require([\"vega-embed\"], displayChart, err => showError(`Error loading script: ${err.message}`));\n",
       "    } else if (typeof vegaEmbed === \"function\") {\n",
       "      displayChart(vegaEmbed);\n",
       "    } else {\n",
       "      loadScript(\"vega\")\n",
       "        .then(() => loadScript(\"vega-lite\"))\n",
       "        .then(() => loadScript(\"vega-embed\"))\n",
       "        .catch(showError)\n",
       "        .then(() => displayChart(vegaEmbed));\n",
       "    }\n",
       "  })({\"config\": {\"view\": {\"continuousWidth\": 400, \"continuousHeight\": 300}}, \"hconcat\": [{\"mark\": {\"type\": \"circle\", \"size\": 200}, \"encoding\": {\"color\": {\"type\": \"nominal\", \"field\": \"pred\", \"scale\": {\"domain\": [\"Negative\", \"Positive\"], \"range\": [\"red\", \"green\"]}}, \"opacity\": {\"condition\": {\"value\": 1, \"selection\": \"selector004\"}, \"value\": 0.1}, \"tooltip\": [{\"type\": \"nominal\", \"field\": \"sentence\"}, {\"type\": \"nominal\", \"field\": \"prob\"}], \"x\": {\"type\": \"quantitative\", \"field\": \"x_raw\"}, \"y\": {\"type\": \"quantitative\", \"field\": \"y_raw\"}}, \"selection\": {\"selector003\": {\"type\": \"interval\", \"empty\": \"none\", \"encodings\": [\"x\", \"y\"]}}, \"title\": \"Raw sentences\"}, {\"mark\": {\"type\": \"circle\", \"size\": 200}, \"encoding\": {\"color\": {\"type\": \"nominal\", \"field\": \"pred\", \"scale\": {\"domain\": [\"Negative\", \"Positive\"], \"range\": [\"red\", \"green\"]}}, \"opacity\": {\"condition\": {\"value\": 1, \"selection\": \"selector003\"}, \"value\": 0.1}, \"tooltip\": [{\"type\": \"nominal\", \"field\": \"sentence\"}, {\"type\": \"nominal\", \"field\": \"prob\"}], \"x\": {\"type\": \"quantitative\", \"field\": \"x_proc\"}, \"y\": {\"type\": \"quantitative\", \"field\": \"y_proc\"}}, \"selection\": {\"selector004\": {\"type\": \"interval\", \"empty\": \"none\", \"encodings\": [\"x\", \"y\"]}}, \"title\": \"Processed sentences\"}], \"data\": {\"name\": \"data-fb4d6a37d6ca6cc4665a1205c1e59af4\"}, \"$schema\": \"https://vega.github.io/schema/vega-lite/v4.8.1.json\", \"datasets\": {\"data-fb4d6a37d6ca6cc4665a1205c1e59af4\": [{\"x_raw\": -8.303457260131836, \"y_raw\": 7.62418794631958, \"x_proc\": -30.03008460998535, \"y_proc\": 17.3063907623291, \"sentence\": \"I believe that Pitch Black was done well.  \", \"prob\": \"0.27\", \"pred\": \"Positive\"}, {\"x_raw\": -51.104129791259766, \"y_raw\": -64.92568969726562, \"x_proc\": -131.4685516357422, \"y_proc\": -35.130794525146484, \"sentence\": \"The seller is very understanding and patient, I would definitely buy from them again.\", \"prob\": \"1.61\", \"pred\": \"Positive\"}, {\"x_raw\": -53.99626159667969, \"y_raw\": -100.56722259521484, \"x_proc\": -83.71194458007812, \"y_proc\": 13.099570274353027, \"sentence\": \"I felt asleep the first time I watched it, so I can recommend it for insomniacs.  \", \"prob\": \"0.86\", \"pred\": \"Positive\"}, {\"x_raw\": -5.808943271636963, \"y_raw\": 45.45299530029297, \"x_proc\": -38.013427734375, \"y_proc\": 38.85845184326172, \"sentence\": \"The phone is sturdy and waterproof.\", \"prob\": \"0.22\", \"pred\": \"Positive\"}, {\"x_raw\": -63.73031997680664, \"y_raw\": -81.4407958984375, \"x_proc\": -93.61651611328125, \"y_proc\": 32.46625518798828, \"sentence\": \"It feels more comfortable than most headsets because I wear glasses and that gets in the way sometimes.\", \"prob\": \"0.92\", \"pred\": \"Positive\"}, {\"x_raw\": 12.219954490661621, \"y_raw\": 36.72307586669922, \"x_proc\": 8.314291000366211, \"y_proc\": 39.07535171508789, \"sentence\": \"Honeslty it didn't taste THAT fresh.)\", \"prob\": \"-0.19\", \"pred\": \"Negative\"}, {\"x_raw\": -50.39923858642578, \"y_raw\": -44.761260986328125, \"x_proc\": -64.14360046386719, \"y_proc\": 33.49457550048828, \"sentence\": \"Just really good.. So far, probably the best BT headset I have ever had.\", \"prob\": \"0.49\", \"pred\": \"Positive\"}, {\"x_raw\": 22.431018829345703, \"y_raw\": -17.890668869018555, \"x_proc\": 51.10406494140625, \"y_proc\": -8.808236122131348, \"sentence\": \"The original Body and Soul (1947) is a masterpiece.  \", \"prob\": \"-0.74\", \"pred\": \"Negative\"}, {\"x_raw\": -106.80575561523438, \"y_raw\": -60.89439392089844, \"x_proc\": -14.194024085998535, \"y_proc\": 37.747825622558594, \"sentence\": \"However, after about a year, the fliptop started to get loose and wobbly and eventually my screen went black and I couldn't receive and place calls.\", \"prob\": \"-0.0\", \"pred\": \"Negative\"}, {\"x_raw\": 63.14219284057617, \"y_raw\": 58.596656799316406, \"x_proc\": 38.43036651611328, \"y_proc\": 12.172715187072754, \"sentence\": \"Pretty piece of junk.\", \"prob\": \"-0.47\", \"pred\": \"Negative\"}, {\"x_raw\": -29.73343276977539, \"y_raw\": 87.37644958496094, \"x_proc\": 148.98167419433594, \"y_proc\": -1.059827446937561, \"sentence\": \"Don't waste your time watching this rubbish non-researched film.  \", \"prob\": \"-2.35\", \"pred\": \"Negative\"}, {\"x_raw\": -124.67219543457031, \"y_raw\": -77.1566390991211, \"x_proc\": 113.52578735351562, \"y_proc\": -26.33086585998535, \"sentence\": \"This is a bad film, with bad writing, and good actors....an ugly cartoon crafted by Paul Haggis for people who can't handle anything but the bold strokes in storytelling....a picture painted with crayons.  \", \"prob\": \"-1.5\", \"pred\": \"Negative\"}, {\"x_raw\": -1.5086814165115356, \"y_raw\": 71.4888687133789, \"x_proc\": 89.01925659179688, \"y_proc\": -30.276939392089844, \"sentence\": \"Regardless, the film fails on most levels.  \", \"prob\": \"-1.19\", \"pred\": \"Negative\"}, {\"x_raw\": -11.836567878723145, \"y_raw\": -49.47040557861328, \"x_proc\": -18.475101470947266, \"y_proc\": -0.2640821635723114, \"sentence\": \"Every time I eat here, I see caring teamwork to a professional degree.\", \"prob\": \"0.12\", \"pred\": \"Positive\"}, {\"x_raw\": -18.566810607910156, \"y_raw\": -13.089225769042969, \"x_proc\": -145.60520935058594, \"y_proc\": -16.026304244995117, \"sentence\": \"The staff are great, the ambiance is great.\", \"prob\": \"1.5\", \"pred\": \"Positive\"}, {\"x_raw\": 1.45066237449646, \"y_raw\": -24.329181671142578, \"x_proc\": 53.03529357910156, \"y_proc\": 33.39540481567383, \"sentence\": \"Maybe there would be a reasonable explanation for this atrocity.  \", \"prob\": \"-0.72\", \"pred\": \"Negative\"}, {\"x_raw\": -28.759931564331055, \"y_raw\": -100.18937683105469, \"x_proc\": -98.766845703125, \"y_proc\": -30.07173728942871, \"sentence\": \"I've had this for nearly 2 years and it has worked great for me.\", \"prob\": \"0.91\", \"pred\": \"Positive\"}, {\"x_raw\": 29.64142608642578, \"y_raw\": 46.208213806152344, \"x_proc\": 36.80252456665039, \"y_proc\": -29.324390411376953, \"sentence\": \"This place is like Chipotle, but BETTER.\", \"prob\": \"-0.45\", \"pred\": \"Negative\"}, {\"x_raw\": -81.39519500732422, \"y_raw\": -96.98625183105469, \"x_proc\": 29.235191345214844, \"y_proc\": 34.862518310546875, \"sentence\": \"At any rate this film stinks, its not funny, and Fulci should have stayed with giallo and supernatural zombie movies.  \", \"prob\": \"-0.3\", \"pred\": \"Negative\"}, {\"x_raw\": -78.99223327636719, \"y_raw\": -41.78993225097656, \"x_proc\": 82.28677368164062, \"y_proc\": 10.766074180603027, \"sentence\": \"And there wasn't a single sour note struck acting-wise, either; some surprisingly solid casting, here.  \", \"prob\": \"-0.99\", \"pred\": \"Negative\"}, {\"x_raw\": -31.73263168334961, \"y_raw\": 48.793548583984375, \"x_proc\": 103.0752182006836, \"y_proc\": 19.300949096679688, \"sentence\": \"Oh yeah, and the storyline was pathetic too.  \", \"prob\": \"-1.2\", \"pred\": \"Negative\"}, {\"x_raw\": 56.459407806396484, \"y_raw\": 77.13298034667969, \"x_proc\": -67.87456512451172, \"y_proc\": -1.4747483730316162, \"sentence\": \"Works for me.\", \"prob\": \"0.67\", \"pred\": \"Positive\"}, {\"x_raw\": 34.622291564941406, \"y_raw\": 87.39105224609375, \"x_proc\": 96.05767822265625, \"y_proc\": -6.557862281799316, \"sentence\": \"poor quality and service.\", \"prob\": \"-1.13\", \"pred\": \"Negative\"}, {\"x_raw\": 49.23170852661133, \"y_raw\": 41.571083068847656, \"x_proc\": -51.77325439453125, \"y_proc\": 15.933161735534668, \"sentence\": \"Don't buy this product.\", \"prob\": \"0.36\", \"pred\": \"Positive\"}, {\"x_raw\": -17.79092788696289, \"y_raw\": -77.86065673828125, \"x_proc\": -157.938720703125, \"y_proc\": 4.60102653503418, \"sentence\": \"Definitely worth venturing off the strip for the pork belly, will return next time I'm in Vegas.\", \"prob\": \"1.64\", \"pred\": \"Positive\"}, {\"x_raw\": 30.48710823059082, \"y_raw\": 26.778564453125, \"x_proc\": 14.841202735900879, \"y_proc\": -28.41533660888672, \"sentence\": \"I literally vomited while watching this film.  \", \"prob\": \"-0.31\", \"pred\": \"Negative\"}, {\"x_raw\": 33.43108367919922, \"y_raw\": 6.025172233581543, \"x_proc\": -55.38011932373047, \"y_proc\": -19.524314880371094, \"sentence\": \"Very good stuff for the price.\", \"prob\": \"0.49\", \"pred\": \"Positive\"}, {\"x_raw\": 71.00086975097656, \"y_raw\": 37.65626525878906, \"x_proc\": -42.55162811279297, \"y_proc\": -2.025010347366333, \"sentence\": \"Love This Phone.\", \"prob\": \"0.36\", \"pred\": \"Positive\"}, {\"x_raw\": -41.044349670410156, \"y_raw\": -81.86207580566406, \"x_proc\": -143.6884765625, \"y_proc\": 26.425418853759766, \"sentence\": \"We were sat right on time and our server from the get go was FANTASTIC!\", \"prob\": \"1.46\", \"pred\": \"Positive\"}, {\"x_raw\": -21.705476760864258, \"y_raw\": 29.17246437072754, \"x_proc\": -90.64349365234375, \"y_proc\": -7.897873878479004, \"sentence\": \"I loved it, it was really scary.  \", \"prob\": \"0.86\", \"pred\": \"Positive\"}, {\"x_raw\": 58.323936462402344, \"y_raw\": 98.35567474365234, \"x_proc\": 4.301340579986572, \"y_proc\": -3.2555434703826904, \"sentence\": \"Incredible!.\", \"prob\": \"-0.06\", \"pred\": \"Negative\"}, {\"x_raw\": 52.962703704833984, \"y_raw\": 16.682157516479492, \"x_proc\": -133.28207397460938, \"y_proc\": 4.865999221801758, \"sentence\": \"Excellent product for the price.\", \"prob\": \"1.53\", \"pred\": \"Positive\"}, {\"x_raw\": 12.201003074645996, \"y_raw\": 55.83753204345703, \"x_proc\": 27.38129234313965, \"y_proc\": -6.990696907043457, \"sentence\": \"The warm beer didn't help.\", \"prob\": \"-0.4\", \"pred\": \"Negative\"}, {\"x_raw\": 4.534003734588623, \"y_raw\": 99.22199249267578, \"x_proc\": 142.8502960205078, \"y_proc\": -23.210575103759766, \"sentence\": \"Dont waste your money...\", \"prob\": \"-2.61\", \"pred\": \"Negative\"}, {\"x_raw\": 7.993252277374268, \"y_raw\": -3.1206820011138916, \"x_proc\": -30.036996841430664, \"y_proc\": -18.69782829284668, \"sentence\": \"Hence the whole story lacks a certain energy.  \", \"prob\": \"0.23\", \"pred\": \"Positive\"}, {\"x_raw\": -32.78218078613281, \"y_raw\": -60.931297302246094, \"x_proc\": -120.06404113769531, \"y_proc\": 28.703048706054688, \"sentence\": \"The movie showed a lot of Florida at it's best, made it look very appealing.  \", \"prob\": \"1.35\", \"pred\": \"Positive\"}, {\"x_raw\": -87.653564453125, \"y_raw\": -75.04425811767578, \"x_proc\": -4.869233131408691, \"y_proc\": 17.19515037536621, \"sentence\": \"We also ordered the spinach and avocado salad; the ingredients were sad and the dressing literally had zero taste.\", \"prob\": \"-0.07\", \"pred\": \"Negative\"}, {\"x_raw\": -71.39061737060547, \"y_raw\": -60.087581634521484, \"x_proc\": 75.66424560546875, \"y_proc\": 34.12421417236328, \"sentence\": \"The secondary plot line is incomprehensible and its relation to the primary plot line is mystifying.  \", \"prob\": \"-0.78\", \"pred\": \"Negative\"}, {\"x_raw\": -104.45397186279297, \"y_raw\": -91.03052520751953, \"x_proc\": -18.471336364746094, \"y_proc\": -40.60642623901367, \"sentence\": \"I really loved the story line and the poler bear was kinda cute.But if anyone has a question about Fort Steele, just ask away:)  \", \"prob\": \"0.2\", \"pred\": \"Positive\"}, {\"x_raw\": -2.9535422325134277, \"y_raw\": 24.400888442993164, \"x_proc\": -76.97502136230469, \"y_proc\": -28.20033836364746, \"sentence\": \"Great place fo take out or eat in.\", \"prob\": \"0.85\", \"pred\": \"Positive\"}, {\"x_raw\": -62.268531799316406, \"y_raw\": -29.099706649780273, \"x_proc\": 72.52999114990234, \"y_proc\": -10.62813949584961, \"sentence\": \"We literally sat there for 20 minutes with no one asking to take our order.\", \"prob\": \"-0.87\", \"pred\": \"Negative\"}, {\"x_raw\": -28.005367279052734, \"y_raw\": 6.844440460205078, \"x_proc\": -119.24371337890625, \"y_proc\": -13.610336303710938, \"sentence\": \"It is simple to use and I like it.\", \"prob\": \"1.35\", \"pred\": \"Positive\"}, {\"x_raw\": 20.632408142089844, \"y_raw\": 73.31122589111328, \"x_proc\": 16.46751594543457, \"y_proc\": 14.664846420288086, \"sentence\": \"good item, low price.\", \"prob\": \"-0.22\", \"pred\": \"Negative\"}, {\"x_raw\": 27.056493759155273, \"y_raw\": 108.54556274414062, \"x_proc\": 132.72830200195312, \"y_proc\": 16.835969924926758, \"sentence\": \"Worst martini ever!\", \"prob\": \"-2.02\", \"pred\": \"Negative\"}, {\"x_raw\": -20.61984634399414, \"y_raw\": 67.28419494628906, \"x_proc\": 122.62323760986328, \"y_proc\": -4.193431377410889, \"sentence\": \"The script is a big flawed mess.  \", \"prob\": \"-1.81\", \"pred\": \"Negative\"}, {\"x_raw\": 39.34381103515625, \"y_raw\": 63.0510139465332, \"x_proc\": 61.29644775390625, \"y_proc\": 11.09640121459961, \"sentence\": \"Everything about this movie is stupid.  \", \"prob\": \"-0.83\", \"pred\": \"Negative\"}, {\"x_raw\": -44.65072250366211, \"y_raw\": 21.148853302001953, \"x_proc\": -42.92121124267578, \"y_proc\": -38.821720123291016, \"sentence\": \"Also difficult to put on.I'd recommend avoiding this product.\", \"prob\": \"0.26\", \"pred\": \"Positive\"}, {\"x_raw\": -30.641263961791992, \"y_raw\": -39.0460090637207, \"x_proc\": -109.71552276611328, \"y_proc\": 7.529287815093994, \"sentence\": \"This hole in the wall has great Mexican street tacos, and friendly staff.\", \"prob\": \"1.22\", \"pred\": \"Positive\"}, {\"x_raw\": -46.20774459838867, \"y_raw\": -4.919556617736816, \"x_proc\": 61.323944091796875, \"y_proc\": -32.1434326171875, \"sentence\": \"If there were zero stars I would give it zero stars.\", \"prob\": \"-0.77\", \"pred\": \"Negative\"}, {\"x_raw\": 14.265520095825195, \"y_raw\": 15.797478675842285, \"x_proc\": -6.996781349182129, \"y_proc\": -20.548175811767578, \"sentence\": \"I vomited in the bathroom mid lunch.\", \"prob\": \"0.01\", \"pred\": \"Positive\"}]}}, {\"mode\": \"vega-lite\"});\n",
       "</script>"
      ],
      "text/plain": [
       "alt.HConcatChart(...)"
      ]
     },
     "execution_count": 31,
     "metadata": {},
     "output_type": "execute_result"
    }
   ],
   "source": [
    "words_tsned | sentences_tsned"
   ]
  },
  {
   "cell_type": "code",
   "execution_count": null,
   "metadata": {},
   "outputs": [],
   "source": []
  }
 ],
 "metadata": {
  "kernelspec": {
   "display_name": "Python 3",
   "language": "python",
   "name": "python3"
  },
  "language_info": {
   "codemirror_mode": {
    "name": "ipython",
    "version": 3
   },
   "file_extension": ".py",
   "mimetype": "text/x-python",
   "name": "python",
   "nbconvert_exporter": "python",
   "pygments_lexer": "ipython3",
   "version": "3.7.3"
  }
 },
 "nbformat": 4,
 "nbformat_minor": 4
}
