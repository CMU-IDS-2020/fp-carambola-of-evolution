{
 "cells": [
  {
   "cell_type": "code",
   "execution_count": 1,
   "metadata": {},
   "outputs": [],
   "source": [
    "import pandas as pd\n",
    "import numpy as np\n",
    "import tensorflow as tf\n",
    "\n",
    "from sklearn.manifold import TSNE\n",
    "\n",
    "from tensorflow.keras import layers\n",
    "import tensorflow_datasets as tfds\n",
    "\n",
    "import matplotlib.pyplot as plt\n",
    "from highlight_text import ax_text, fig_text\n",
    "\n",
    "import altair as alt\n",
    "\n",
    "from tqdm import tqdm"
   ]
  },
  {
   "cell_type": "code",
   "execution_count": 2,
   "metadata": {},
   "outputs": [],
   "source": [
    "def probability(x):\n",
    "    return np.round(np.abs(2 * (1 / (1 + np.exp(-x)) - 0.5)), 2)"
   ]
  },
  {
   "cell_type": "code",
   "execution_count": 3,
   "metadata": {},
   "outputs": [],
   "source": [
    "data = pd.read_csv('./combined_sentiment_labelled.tsv', sep='\\t')"
   ]
  },
  {
   "cell_type": "code",
   "execution_count": 4,
   "metadata": {},
   "outputs": [],
   "source": [
    "# data"
   ]
  },
  {
   "cell_type": "code",
   "execution_count": 5,
   "metadata": {},
   "outputs": [],
   "source": [
    "# len(set([x for l in data.text.apply(lambda x: x.split(\" \")).values for x in l]))"
   ]
  },
  {
   "cell_type": "markdown",
   "metadata": {},
   "source": [
    "https://www.tensorflow.org/tutorials/text/text_classification_rnn"
   ]
  },
  {
   "cell_type": "code",
   "execution_count": 6,
   "metadata": {
    "scrolled": true
   },
   "outputs": [
    {
     "name": "stderr",
     "output_type": "stream",
     "text": [
      "WARNING:absl:Warning: Setting shuffle_files=True because split=TRAIN and shuffle_files=None. This behavior will be deprecated on 2019-08-06, at which point shuffle_files=False will be the default for all splits.\n"
     ]
    }
   ],
   "source": [
    "dataset = tfds.load('imdb_reviews',\n",
    "                    as_supervised=True)"
   ]
  },
  {
   "cell_type": "code",
   "execution_count": 7,
   "metadata": {},
   "outputs": [],
   "source": [
    "train_dataset, test_dataset = dataset['train'], dataset['test']"
   ]
  },
  {
   "cell_type": "code",
   "execution_count": 8,
   "metadata": {},
   "outputs": [],
   "source": [
    "# for example, label in train_dataset.take(1):\n",
    "#   print('text: ', example.numpy())\n",
    "#   print('label: ', label.numpy())"
   ]
  },
  {
   "cell_type": "code",
   "execution_count": 9,
   "metadata": {},
   "outputs": [],
   "source": [
    "BUFFER_SIZE = 10000\n",
    "BATCH_SIZE = 64\n",
    "\n",
    "train_dataset = train_dataset.shuffle(BUFFER_SIZE).batch(BATCH_SIZE).prefetch(tf.data.experimental.AUTOTUNE)\n",
    "test_dataset = test_dataset.batch(BATCH_SIZE).prefetch(tf.data.experimental.AUTOTUNE)"
   ]
  },
  {
   "cell_type": "code",
   "execution_count": 10,
   "metadata": {},
   "outputs": [],
   "source": [
    "VOCAB_SIZE=5000\n",
    "encoder = tf.keras.layers.experimental.preprocessing.TextVectorization(\n",
    "    max_tokens=VOCAB_SIZE)\n",
    "encoder.adapt(train_dataset.map(lambda text, label: text))"
   ]
  },
  {
   "cell_type": "code",
   "execution_count": 11,
   "metadata": {},
   "outputs": [],
   "source": [
    "# sum([1 for i in train_dataset.as_numpy_iterator()])"
   ]
  },
  {
   "cell_type": "code",
   "execution_count": 12,
   "metadata": {},
   "outputs": [],
   "source": [
    "# checkpoint_path = \"training/cp-{epoch:04d}.ckpt\"\n",
    "\n",
    "# cp_callback = tf.keras.callbacks.ModelCheckpoint(\n",
    "#     filepath=checkpoint_path, \n",
    "#     verbose=1, \n",
    "#     save_weights_only=True)"
   ]
  },
  {
   "cell_type": "code",
   "execution_count": 13,
   "metadata": {},
   "outputs": [
    {
     "name": "stdout",
     "output_type": "stream",
     "text": [
      "\n"
     ]
    }
   ],
   "source": [
    "model = tf.keras.Sequential([\n",
    "    encoder,\n",
    "    tf.keras.layers.Embedding(\n",
    "        input_dim=len(encoder.get_vocabulary()) + 2,\n",
    "        output_dim=64,\n",
    "        # Use masking to handle the variable sequence lengths\n",
    "        mask_zero=True),\n",
    "    tf.keras.layers.LSTM(64),\n",
    "    tf.keras.layers.Dropout(0.2),\n",
    "    tf.keras.layers.Dense(64, activation='relu'),\n",
    "    tf.keras.layers.Dropout(0.2),\n",
    "    tf.keras.layers.Dense(1)\n",
    "])\n",
    "model.predict(train_dataset.take(1))\n",
    "print()"
   ]
  },
  {
   "cell_type": "code",
   "execution_count": 14,
   "metadata": {
    "scrolled": true
   },
   "outputs": [],
   "source": [
    "# with tf.device('/GPU:0'):\n",
    "#     model.compile(loss=tf.keras.losses.BinaryCrossentropy(from_logits=True),\n",
    "#                   optimizer=tf.keras.optimizers.Adam(1e-4),\n",
    "#                   metrics=['accuracy'])\n",
    "    \n",
    "#     model.predict(train_dataset.take(1))\n",
    "#     model.save_weights(checkpoint_path.format(epoch=0))\n",
    "    \n",
    "#     history = model.fit(train_dataset, \n",
    "#                         epochs=5,\n",
    "#                         validation_data=test_dataset, \n",
    "#                         validation_steps=30,\n",
    "#                         callbacks=[cp_callback])"
   ]
  },
  {
   "cell_type": "code",
   "execution_count": 15,
   "metadata": {},
   "outputs": [],
   "source": [
    "# model.save_weights('trained_model/')"
   ]
  },
  {
   "cell_type": "code",
   "execution_count": 16,
   "metadata": {},
   "outputs": [
    {
     "data": {
      "text/plain": [
       "<tensorflow.python.training.tracking.util.CheckpointLoadStatus at 0x26cbd083ef0>"
      ]
     },
     "execution_count": 16,
     "metadata": {},
     "output_type": "execute_result"
    }
   ],
   "source": [
    "model.load_weights('trained_model/')"
   ]
  },
  {
   "cell_type": "code",
   "execution_count": null,
   "metadata": {},
   "outputs": [],
   "source": [
    "history.history"
   ]
  },
  {
   "cell_type": "code",
   "execution_count": null,
   "metadata": {},
   "outputs": [],
   "source": [
    "plt.plot(history.history['accuracy'], label='train accuracy')\n",
    "plt.plot(history.history['val_accuracy'], label='test accuracy')\n",
    "plt.title('Model Accuracy')\n",
    "plt.ylabel('accuracy')\n",
    "plt.xlabel('epoch')\n",
    "plt.legend()\n",
    "plt.show()"
   ]
  },
  {
   "cell_type": "markdown",
   "metadata": {},
   "source": [
    "----"
   ]
  },
  {
   "cell_type": "code",
   "execution_count": 53,
   "metadata": {},
   "outputs": [],
   "source": [
    "class bcolors:\n",
    "    HEADER = '\\033[95m'\n",
    "    OKBLUE = '\\033[94m'\n",
    "    OKCYAN = '\\033[96m'\n",
    "    GREEN = '\\033[92m'\n",
    "    WARNING = '\\033[93m'\n",
    "    RED = '\\033[91m'\n",
    "    ENDC = '\\033[0m'\n",
    "    BOLD = '\\033[1m'\n",
    "    UNDERLINE = '\\033[4m'"
   ]
  },
  {
   "cell_type": "code",
   "execution_count": 54,
   "metadata": {},
   "outputs": [],
   "source": [
    "def color_text(text, model=model):\n",
    "    tokens = text.split(\" \")\n",
    "    probs = [0]\n",
    "    for k in range(0,len(tokens)):\n",
    "        probs.append(model.predict(np.array([\" \".join(tokens[:k+1])]))[0][0])\n",
    "    pred = probs[-1]\n",
    "    probs = np.diff(probs)\n",
    "    colors = [bcolors.ENDC if abs(p / max(np.abs(probs))) < 0.1 \n",
    "                  else (bcolors.RED if p < 0 else bcolors.GREEN) \n",
    "              for p in probs]\n",
    "    ends = [bcolors.ENDC] * len(probs)\n",
    "    return \" \".join([c+t+e for c,t,e in zip(colors, tokens, ends)]), pred"
   ]
  },
  {
   "cell_type": "markdown",
   "metadata": {},
   "source": [
    "https://stackoverflow.com/questions/287871/how-to-print-colored-text-in-python"
   ]
  },
  {
   "cell_type": "code",
   "execution_count": 98,
   "metadata": {},
   "outputs": [
    {
     "name": "stdout",
     "output_type": "stream",
     "text": [
      "NEGATIVE | 0.58 | \u001b[91mThen,\u001b[0m \u001b[91mas\u001b[0m \u001b[91mif\u001b[0m \u001b[0mI\u001b[0m \u001b[0mhadn't\u001b[0m \u001b[91mwasted\u001b[0m \u001b[91menough\u001b[0m \u001b[0mof\u001b[0m \u001b[0mmy\u001b[0m \u001b[0mlife\u001b[0m \u001b[91mthere,\u001b[0m \u001b[0mthey\u001b[0m \u001b[91mpoured\u001b[0m \u001b[0msalt\u001b[0m \u001b[0min\u001b[0m \u001b[0mthe\u001b[0m \u001b[0mwound\u001b[0m \u001b[0mby\u001b[0m \u001b[91mdrawing\u001b[0m \u001b[0mout\u001b[0m \u001b[0mthe\u001b[0m \u001b[0mtime\u001b[0m \u001b[0mit\u001b[0m \u001b[0mtook\u001b[0m \u001b[0mto\u001b[0m \u001b[0mbring\u001b[0m \u001b[0mthe\u001b[0m \u001b[0mcheck.\u001b[0m\n",
      "POSITIVE | 0.48 | \u001b[0mThis\u001b[0m \u001b[92mwonderful\u001b[0m \u001b[92mexperience\u001b[0m \u001b[0mmade\u001b[0m \u001b[0mthis\u001b[0m \u001b[0mplace\u001b[0m \u001b[0ma\u001b[0m \u001b[0mmust-stop\u001b[0m \u001b[0mwhenever\u001b[0m \u001b[0mwe\u001b[0m \u001b[0mare\u001b[0m \u001b[0min\u001b[0m \u001b[0mtown\u001b[0m \u001b[0magain.\u001b[0m\n",
      "POSITIVE | 0.35 | \u001b[0mThis\u001b[0m \u001b[0mwas\u001b[0m \u001b[91msuch\u001b[0m \u001b[0man\u001b[0m \u001b[92mawesome\u001b[0m \u001b[0mmovie\u001b[0m \u001b[0mthat\u001b[0m \u001b[0mi\u001b[0m \u001b[92mbought\u001b[0m \u001b[92mit\u001b[0m \u001b[91moff\u001b[0m \u001b[0mof\u001b[0m \u001b[91mEbay.\u001b[0m \u001b[0m\u001b[0m \u001b[0m\u001b[0m\n",
      "NEGATIVE | 0.4 | \u001b[92mThe\u001b[0m \u001b[92mlast\u001b[0m \u001b[0m15\u001b[0m \u001b[91mminutes\u001b[0m \u001b[0mof\u001b[0m \u001b[91mmovie\u001b[0m \u001b[91mare\u001b[0m \u001b[92malso\u001b[0m \u001b[91mnot\u001b[0m \u001b[91mbad\u001b[0m \u001b[91mas\u001b[0m \u001b[92mwell.\u001b[0m \u001b[0m\u001b[0m \u001b[0m\u001b[0m\n",
      "POSITIVE | 0.18 | \u001b[92mCheck\u001b[0m \u001b[92mit\u001b[0m \u001b[92mout.\u001b[0m\n"
     ]
    }
   ],
   "source": [
    "reviews = data.text[np.random.randint(0, len(data), size=5)]\n",
    "model.load_weights('./training/cp-0005.ckpt')\n",
    "\n",
    "for text in reviews:\n",
    "    pred = color_text(text, model=model)\n",
    "    print(\"NEGATIVE\" if pred[1] < 0 else \"POSITIVE\", \"|\", probability(pred[1]), \"|\", pred[0])"
   ]
  },
  {
   "cell_type": "code",
   "execution_count": null,
   "metadata": {
    "scrolled": true
   },
   "outputs": [],
   "source": [
    "text = data.text[np.random.randint(0, len(data))]\n",
    "\n",
    "for i in range(6):\n",
    "    model.load_weights(f'./training/cp-000{i}.ckpt')\n",
    "    pred = color_text(text, model=model)\n",
    "    print(f\"Epoch {i}\", \"|\", \"NEGATIVE\" if pred[1] < 0 else \"POSITIVE\", \"|\", probability(pred[1]), \"|\", pred[0])"
   ]
  },
  {
   "cell_type": "code",
   "execution_count": 128,
   "metadata": {},
   "outputs": [],
   "source": [
    "import pickle\n",
    "\n",
    "colored = []\n",
    "\n",
    "def color_text(text, model):\n",
    "    def make_colored_text(text, p, probs):\n",
    "        if abs(p / max(np.abs(probs))) < 0.1:\n",
    "            return f\"<span style='color:grey; opacity:0.3'>{text}</span>\"\n",
    "        elif p < 0:\n",
    "            return f\"<span style='color:red; opacity:{abs(p / max(np.abs(probs))) + 0.2}'>{text}</span>\"\n",
    "        else:\n",
    "            return f\"<span style='color:green; opacity:{abs(p / max(np.abs(probs))) + 0.2}'>{text}</span>\"\n",
    "\n",
    "    tokens = text.split(\" \")\n",
    "    probs = [0]\n",
    "    for k in range(0, len(tokens)):\n",
    "        probs.append(model.predict(np.array([\" \".join(tokens[:k+1])]))[0][0])\n",
    "    fin_prob = probs[-1]\n",
    "    probs = np.diff(probs)\n",
    "    colored_texts = [make_colored_text(token, p, probs)\n",
    "                     for token, p in zip(tokens, probs)]\n",
    "    return \" \".join(colored_texts), fin_prob\n",
    "\n",
    "for text in tqdm(data.text):\n",
    "    try:\n",
    "        pred = color_text(text, model=model)\n",
    "        colored.append((\"NEG\" if pred[1] < 0 else \"POS\") + \" | \" +\n",
    "                                str(probability(pred[1])) + \" | \" +\n",
    "                                pred[0])\n",
    "    except:\n",
    "        pass\n",
    "    \n",
    "with open('colored.txt', 'wb') as f:\n",
    "    pickle.dump(colored, f)"
   ]
  },
  {
   "cell_type": "code",
   "execution_count": 105,
   "metadata": {},
   "outputs": [],
   "source": []
  },
  {
   "cell_type": "code",
   "execution_count": null,
   "metadata": {},
   "outputs": [],
   "source": []
  },
  {
   "cell_type": "code",
   "execution_count": 127,
   "metadata": {},
   "outputs": [
    {
     "data": {
      "text/markdown": [
       "<span style='color:grey; opacity:0.3'>So</span> <span style='color:red; opacity:0.4014657391256363'>there</span> <span style='color:grey; opacity:0.3'>is</span> <span style='color:red; opacity:0.7757818412859647'>no</span> <span style='color:grey; opacity:0.3'>way</span> <span style='color:grey; opacity:0.3'>for</span> <span style='color:grey; opacity:0.3'>me</span> <span style='color:grey; opacity:0.3'>to</span> <span style='color:red; opacity:0.3662201889201698'>plug</span> <span style='color:green; opacity:0.40451070797823185'>it</span> <span style='color:grey; opacity:0.3'>in</span> <span style='color:red; opacity:0.3899029169566821'>here</span> <span style='color:grey; opacity:0.3'>in</span> <span style='color:grey; opacity:0.3'>the</span> <span style='color:green; opacity:0.5628545339016471'>US</span> <span style='color:red; opacity:1.2'>unless</span> <span style='color:grey; opacity:0.3'>I</span> <span style='color:grey; opacity:0.3'>go</span> <span style='color:grey; opacity:0.3'>by</span> <span style='color:grey; opacity:0.3'>a</span> <span style='color:grey; opacity:0.3'>converter.</span>"
      ],
      "text/plain": [
       "<IPython.core.display.Markdown object>"
      ]
     },
     "metadata": {},
     "output_type": "display_data"
    }
   ],
   "source": [
    "display(Markdown(color_text(data.iloc[0].text, model)[0]))"
   ]
  },
  {
   "cell_type": "code",
   "execution_count": 120,
   "metadata": {},
   "outputs": [
    {
     "data": {
      "text/markdown": [
       "<span style='color:red; opacity:0.3'>there</span>"
      ],
      "text/plain": [
       "<IPython.core.display.Markdown object>"
      ]
     },
     "metadata": {},
     "output_type": "display_data"
    }
   ],
   "source": [
    "from IPython.display import display, Markdown\n",
    "display(Markdown(\"<span style='color:red; opacity:0.3'>there</span>\"))"
   ]
  },
  {
   "cell_type": "code",
   "execution_count": null,
   "metadata": {},
   "outputs": [],
   "source": []
  },
  {
   "cell_type": "markdown",
   "metadata": {},
   "source": [
    "-----------"
   ]
  },
  {
   "cell_type": "markdown",
   "metadata": {},
   "source": [
    "### Average of word embeddings"
   ]
  },
  {
   "cell_type": "code",
   "execution_count": 20,
   "metadata": {},
   "outputs": [],
   "source": [
    "def sen2vec(x):\n",
    "    return model.get_layer(name='embedding')(model.get_layer(name=\"text_vectorization\")(x))"
   ]
  },
  {
   "cell_type": "code",
   "execution_count": 21,
   "metadata": {},
   "outputs": [],
   "source": [
    "a = sen2vec([[x] for x in data.text.values[:3]])"
   ]
  },
  {
   "cell_type": "code",
   "execution_count": null,
   "metadata": {},
   "outputs": [],
   "source": [
    "# samples, words, embedding\n",
    "a.shape"
   ]
  },
  {
   "cell_type": "markdown",
   "metadata": {},
   "source": [
    "### Processed sentences"
   ]
  },
  {
   "cell_type": "code",
   "execution_count": 22,
   "metadata": {},
   "outputs": [],
   "source": [
    "sen2vec_model = tf.keras.Sequential([\n",
    "    model.get_layer(name=\"text_vectorization\"),\n",
    "    model.get_layer(name='embedding'),\n",
    "    model.get_layer(name='lstm'),\n",
    "    model.get_layer(name='dense')\n",
    "])"
   ]
  },
  {
   "cell_type": "code",
   "execution_count": 24,
   "metadata": {},
   "outputs": [],
   "source": [
    "sen2vec_model_interm = tf.keras.Sequential([\n",
    "    model.get_layer(name=\"text_vectorization\"),\n",
    "    model.get_layer(name='embedding'),\n",
    "    model.get_layer(name='lstm')\n",
    "])"
   ]
  },
  {
   "cell_type": "code",
   "execution_count": 25,
   "metadata": {},
   "outputs": [],
   "source": [
    "sentences = data.sample(n=50).text.values\n",
    "\n",
    "tsne = TSNE()\n",
    "tsned_space_raw = tsne.fit_transform(sen2vec([[x] for x in sentences]).numpy().mean(axis=1))\n",
    "\n",
    "tsned_space_proc = tsne.fit_transform(sen2vec_model.predict(sentences))\n",
    "\n",
    "tsned_space_intermediate = tsne.fit_transform(sen2vec_model_interm.predict(sentences))"
   ]
  },
  {
   "cell_type": "code",
   "execution_count": 26,
   "metadata": {},
   "outputs": [],
   "source": [
    "tsne_plot_data = pd.DataFrame({'x_raw': tsned_space_raw[:,0], \n",
    "                               'y_raw': tsned_space_raw[:,1],\n",
    "                               'x_interm': tsned_space_intermediate[:,0], \n",
    "                               'y_interm': tsned_space_intermediate[:,1],\n",
    "                               'x_proc': tsned_space_proc[:,0], \n",
    "                               'y_proc': tsned_space_proc[:,1],\n",
    "                               'sentence': sentences, \n",
    "                               'opacity': np.abs(model.predict(sentences).reshape(-1)),\n",
    "                               'prob': model.predict(sentences).reshape(-1).round(2).astype(str),\n",
    "                               'pred': ['Positive' if x else 'Negative' \n",
    "                                        for x in (model.predict(sentences).reshape(-1) > 0)]})"
   ]
  },
  {
   "cell_type": "code",
   "execution_count": 27,
   "metadata": {},
   "outputs": [],
   "source": [
    "selector_embs = alt.selection_interval(empty='all', encodings=['x', 'y'])"
   ]
  },
  {
   "cell_type": "code",
   "execution_count": 76,
   "metadata": {},
   "outputs": [],
   "source": [
    "words_tsned = alt.Chart(tsne_plot_data).mark_circle(size=200).encode(\n",
    "    x = 'x_raw',\n",
    "    y = 'y_raw',\n",
    "    tooltip =[alt.Tooltip('sentence'), alt.Tooltip('prob')],\n",
    "    color = alt.Color('pred', \n",
    "                      scale=alt.Scale(domain=['Negative', 'Positive'], \n",
    "                                      range=['red', 'green']), \n",
    "                      legend=None),\n",
    "    opacity=alt.condition(selector_embs, 'opacity', alt.value(0.05), legend=None)\n",
    ").properties(\n",
    "    title='Raw sentences'\n",
    ").add_selection(\n",
    "    selector_embs\n",
    ")"
   ]
  },
  {
   "cell_type": "code",
   "execution_count": 77,
   "metadata": {},
   "outputs": [],
   "source": [
    "interm_tsned = alt.Chart(tsne_plot_data).mark_circle(size=200).encode(\n",
    "    x = 'x_interm',\n",
    "    y = 'y_interm',\n",
    "    tooltip =[alt.Tooltip('sentence'), alt.Tooltip('prob')],\n",
    "    color = alt.Color('pred', \n",
    "                      scale=alt.Scale(domain=['Negative', 'Positive'], \n",
    "                                      range=['red', 'green']), \n",
    "                      legend=None),\n",
    "    opacity=alt.condition(selector_embs, 'opacity', alt.value(0.05), legend=None)\n",
    ").properties(\n",
    "    title='Intermediate state sentences'\n",
    ").add_selection(\n",
    "    selector_embs\n",
    ")"
   ]
  },
  {
   "cell_type": "code",
   "execution_count": 101,
   "metadata": {},
   "outputs": [],
   "source": [
    "sentences_tsned = alt.Chart(data=tsne_plot_data).mark_circle(size=200).encode(\n",
    "    x = 'x_proc',\n",
    "    y = 'y_proc',\n",
    "    tooltip =[alt.Tooltip('sentence'), alt.Tooltip('prob')],\n",
    "    color = alt.Color('pred', \n",
    "                      scale=alt.Scale(domain=['Negative', 'Positive'], \n",
    "                                      range=['red', 'green']), \n",
    "                      legend=alt.Legend(symbolOpacity=1)),\n",
    "    opacity=alt.condition(selector_embs, 'opacity', alt.value(0.05), legend=None)\n",
    ").properties(\n",
    "    title='Processed sentences'\n",
    ").add_selection(\n",
    "    selector_embs\n",
    ")"
   ]
  },
  {
   "cell_type": "code",
   "execution_count": 105,
   "metadata": {},
   "outputs": [],
   "source": [
    "import vega"
   ]
  },
  {
   "cell_type": "code",
   "execution_count": 125,
   "metadata": {},
   "outputs": [
    {
     "data": {
      "text/html": [
       "\n",
       "<div id=\"altair-viz-5cce607e04c140c084b9c4d02bc8eb10\"></div>\n",
       "<script type=\"text/javascript\">\n",
       "  (function(spec, embedOpt){\n",
       "    let outputDiv = document.currentScript.previousElementSibling;\n",
       "    if (outputDiv.id !== \"altair-viz-5cce607e04c140c084b9c4d02bc8eb10\") {\n",
       "      outputDiv = document.getElementById(\"altair-viz-5cce607e04c140c084b9c4d02bc8eb10\");\n",
       "    }\n",
       "    const paths = {\n",
       "      \"vega\": \"https://cdn.jsdelivr.net/npm//vega@5?noext\",\n",
       "      \"vega-lib\": \"https://cdn.jsdelivr.net/npm//vega-lib?noext\",\n",
       "      \"vega-lite\": \"https://cdn.jsdelivr.net/npm//vega-lite@4.8.1?noext\",\n",
       "      \"vega-embed\": \"https://cdn.jsdelivr.net/npm//vega-embed@6?noext\",\n",
       "    };\n",
       "\n",
       "    function loadScript(lib) {\n",
       "      return new Promise(function(resolve, reject) {\n",
       "        var s = document.createElement('script');\n",
       "        s.src = paths[lib];\n",
       "        s.async = true;\n",
       "        s.onload = () => resolve(paths[lib]);\n",
       "        s.onerror = () => reject(`Error loading script: ${paths[lib]}`);\n",
       "        document.getElementsByTagName(\"head\")[0].appendChild(s);\n",
       "      });\n",
       "    }\n",
       "\n",
       "    function showError(err) {\n",
       "      outputDiv.innerHTML = `<div class=\"error\" style=\"color:red;\">${err}</div>`;\n",
       "      throw err;\n",
       "    }\n",
       "\n",
       "    function displayChart(vegaEmbed) {\n",
       "      vegaEmbed(outputDiv, spec, embedOpt)\n",
       "        .catch(err => showError(`Javascript Error: ${err.message}<br>This usually means there's a typo in your chart specification. See the javascript console for the full traceback.`));\n",
       "    }\n",
       "\n",
       "    if(typeof define === \"function\" && define.amd) {\n",
       "      requirejs.config({paths});\n",
       "      require([\"vega-embed\"], displayChart, err => showError(`Error loading script: ${err.message}`));\n",
       "    } else if (typeof vegaEmbed === \"function\") {\n",
       "      displayChart(vegaEmbed);\n",
       "    } else {\n",
       "      loadScript(\"vega\")\n",
       "        .then(() => loadScript(\"vega-lite\"))\n",
       "        .then(() => loadScript(\"vega-embed\"))\n",
       "        .catch(showError)\n",
       "        .then(() => displayChart(vegaEmbed));\n",
       "    }\n",
       "  })({\"config\": {\"view\": {\"continuousWidth\": 400, \"continuousHeight\": 300}}, \"data\": {\"name\": \"data-fddaa0b8c5c25d911b6d8e74c717d6d9\"}, \"mark\": {\"type\": \"circle\", \"size\": 200}, \"encoding\": {\"color\": {\"type\": \"nominal\", \"field\": \"pred\", \"legend\": {\"symbolOpacity\": 1}}, \"opacity\": {\"value\": 0.05}, \"x\": {\"type\": \"quantitative\", \"field\": \"x_proc\"}}, \"$schema\": \"https://vega.github.io/schema/vega-lite/v4.8.1.json\", \"datasets\": {\"data-fddaa0b8c5c25d911b6d8e74c717d6d9\": [{\"x_raw\": -32.27500915527344, \"y_raw\": -42.274356842041016, \"x_interm\": -63.60780334472656, \"y_interm\": -30.2216739654541, \"x_proc\": 14.797008514404297, \"y_proc\": 56.575767517089844, \"sentence\": \"There is nothing authentic about this place.\", \"opacity\": 0.5618886351585388, \"prob\": \"-0.56\", \"pred\": \"Negative\"}, {\"x_raw\": -59.52629470825195, \"y_raw\": -67.56237030029297, \"x_interm\": 60.16180419921875, \"y_interm\": 87.83397674560547, \"x_proc\": 31.665281295776367, \"y_proc\": -99.01710510253906, \"sentence\": \"I rate this movie 9/10.  \", \"opacity\": 1.1452341079711914, \"prob\": \"1.15\", \"pred\": \"Positive\"}, {\"x_raw\": -101.6928482055664, \"y_raw\": -30.152923583984375, \"x_interm\": -134.62391662597656, \"y_interm\": -53.2799072265625, \"x_proc\": -52.893924713134766, \"y_proc\": 92.18402862548828, \"sentence\": \"What a waste.\", \"opacity\": 1.2323559522628784, \"prob\": \"-1.23\", \"pred\": \"Negative\"}, {\"x_raw\": 46.35768508911133, \"y_raw\": 52.51860046386719, \"x_interm\": -57.757747650146484, \"y_interm\": -61.1395263671875, \"x_proc\": -6.83436918258667, \"y_proc\": 66.45964050292969, \"sentence\": \"If you like a loud buzzing to override all your conversations, then this phone is for you!\", \"opacity\": 0.7161597013473511, \"prob\": \"-0.72\", \"pred\": \"Negative\"}, {\"x_raw\": 31.36925506591797, \"y_raw\": 2.0960092544555664, \"x_interm\": -30.58966636657715, \"y_interm\": -52.01339340209961, \"x_proc\": -14.574645042419434, \"y_proc\": 36.16564178466797, \"sentence\": \"Not only will it drain your player, but may also potentially fry it.\", \"opacity\": 0.4205601215362549, \"prob\": \"-0.42\", \"pred\": \"Negative\"}, {\"x_raw\": -81.56859588623047, \"y_raw\": -11.492461204528809, \"x_interm\": 5.206063270568848, \"y_interm\": 50.0220832824707, \"x_proc\": 15.421102523803711, \"y_proc\": -62.65542984008789, \"sentence\": \"Dessert: Panna Cotta was amazing.\", \"opacity\": 0.6748781204223633, \"prob\": \"0.67\", \"pred\": \"Positive\"}, {\"x_raw\": 55.675437927246094, \"y_raw\": 7.698522567749023, \"x_interm\": -117.27149200439453, \"y_interm\": -93.6539306640625, \"x_proc\": -29.411365509033203, \"y_proc\": 125.85707092285156, \"sentence\": \"in addition it feels &amp; looks as if the phone is all lightweight cheap plastic.\", \"opacity\": 1.5631605386734009, \"prob\": \"-1.56\", \"pred\": \"Negative\"}, {\"x_raw\": -7.027792930603027, \"y_raw\": 21.65282440185547, \"x_interm\": -47.88307571411133, \"y_interm\": -42.87201690673828, \"x_proc\": -2.509509563446045, \"y_proc\": 48.89175796508789, \"sentence\": \"This is one of the better buffets that I have been to.\", \"opacity\": 0.5033522844314575, \"prob\": \"-0.5\", \"pred\": \"Negative\"}, {\"x_raw\": 45.20484161376953, \"y_raw\": 83.52833557128906, \"x_interm\": -14.370077133178711, \"y_interm\": 60.63291549682617, \"x_proc\": -22.254289627075195, \"y_proc\": -59.17376708984375, \"sentence\": \"I have been in more than a few bars in Vegas, and do not ever recall being charged for tap water.\", \"opacity\": 0.5723520517349243, \"prob\": \"0.57\", \"pred\": \"Positive\"}, {\"x_raw\": -24.039716720581055, \"y_raw\": -13.907270431518555, \"x_interm\": 44.2631950378418, \"y_interm\": -18.278501510620117, \"x_proc\": 37.34305191040039, \"y_proc\": -20.28667640686035, \"sentence\": \"But I definitely would not eat here again.\", \"opacity\": 0.4597845673561096, \"prob\": \"0.46\", \"pred\": \"Positive\"}, {\"x_raw\": -69.6914291381836, \"y_raw\": -49.964439392089844, \"x_interm\": 3.3849000930786133, \"y_interm\": -38.6292724609375, \"x_proc\": -24.233243942260742, \"y_proc\": 4.080174446105957, \"sentence\": \"It looks very nice.\", \"opacity\": 0.02709808573126793, \"prob\": \"0.03\", \"pred\": \"Positive\"}, {\"x_raw\": -50.76976776123047, \"y_raw\": -51.01628875732422, \"x_interm\": -36.966121673583984, \"y_interm\": -76.62652587890625, \"x_proc\": -23.340778350830078, \"y_proc\": 52.34060287475586, \"sentence\": \"You won't be disappointed.\", \"opacity\": 0.5849907994270325, \"prob\": \"-0.58\", \"pred\": \"Negative\"}, {\"x_raw\": -18.877614974975586, \"y_raw\": -62.617164611816406, \"x_interm\": 42.638877868652344, \"y_interm\": 39.62638473510742, \"x_proc\": 37.459739685058594, \"y_proc\": -63.140106201171875, \"sentence\": \"It was awesome.\", \"opacity\": 0.8419160842895508, \"prob\": \"0.84\", \"pred\": \"Positive\"}, {\"x_raw\": 8.40145206451416, \"y_raw\": 33.884944915771484, \"x_interm\": -19.909887313842773, \"y_interm\": -31.88994789123535, \"x_proc\": -8.957818031311035, \"y_proc\": 17.373247146606445, \"sentence\": \"By the time the film ended, I not only disliked it, I despised it.  \", \"opacity\": 0.07901552319526672, \"prob\": \"-0.08\", \"pred\": \"Negative\"}, {\"x_raw\": 13.963362693786621, \"y_raw\": -10.424395561218262, \"x_interm\": -57.833892822265625, \"y_interm\": -7.284683704376221, \"x_proc\": -40.92026901245117, \"y_proc\": 44.02006530761719, \"sentence\": \"It didn't work, people can not hear me when I talk.\", \"opacity\": 0.442654013633728, \"prob\": \"-0.44\", \"pred\": \"Negative\"}, {\"x_raw\": -57.15562438964844, \"y_raw\": -35.358577728271484, \"x_interm\": -26.167970657348633, \"y_interm\": -1.2294100522994995, \"x_proc\": 7.529969215393066, \"y_proc\": 7.812729358673096, \"sentence\": \"Service is friendly and inviting.\", \"opacity\": 0.09891323745250702, \"prob\": \"0.1\", \"pred\": \"Positive\"}, {\"x_raw\": -28.44856834411621, \"y_raw\": -83.36343383789062, \"x_interm\": -100.29103088378906, \"y_interm\": -47.695831298828125, \"x_proc\": 8.8687105178833, \"y_proc\": 79.83358001708984, \"sentence\": \"The problem was the script.  \", \"opacity\": 0.8859145045280457, \"prob\": \"-0.89\", \"pred\": \"Negative\"}, {\"x_raw\": 53.381317138671875, \"y_raw\": 35.428192138671875, \"x_interm\": -10.61242389678955, \"y_interm\": -59.310970306396484, \"x_proc\": 8.711186408996582, \"y_proc\": 31.538902282714844, \"sentence\": \"Att is not clear, sound is very distorted and you have to yell when you talk.\", \"opacity\": 0.2516259253025055, \"prob\": \"-0.25\", \"pred\": \"Negative\"}, {\"x_raw\": 3.4193713665008545, \"y_raw\": 52.1235466003418, \"x_interm\": 87.88978576660156, \"y_interm\": 41.653160095214844, \"x_proc\": 45.123863220214844, \"y_proc\": -82.86819458007812, \"sentence\": \"When I opened the sandwich, I was impressed, but not in a good way.\", \"opacity\": 1.0532639026641846, \"prob\": \"1.05\", \"pred\": \"Positive\"}, {\"x_raw\": -21.37702751159668, \"y_raw\": 37.54255294799805, \"x_interm\": 27.20111083984375, \"y_interm\": -38.68433380126953, \"x_proc\": -21.201744079589844, \"y_proc\": -16.823684692382812, \"sentence\": \"I was disgusted because I was pretty sure that was human hair.\", \"opacity\": 0.18272750079631805, \"prob\": \"0.18\", \"pred\": \"Positive\"}, {\"x_raw\": -12.647648811340332, \"y_raw\": 2.5736637115478516, \"x_interm\": -16.032609939575195, \"y_interm\": 32.64040756225586, \"x_proc\": -10.553506851196289, \"y_proc\": -41.34281539916992, \"sentence\": \"Overall I was not impressed and would not go back.\", \"opacity\": 0.5738428831100464, \"prob\": \"0.57\", \"pred\": \"Positive\"}, {\"x_raw\": -6.120787620544434, \"y_raw\": -16.08000373840332, \"x_interm\": 66.03221130371094, \"y_interm\": -3.396045446395874, \"x_proc\": -2.0134103298187256, \"y_proc\": -57.60773849487305, \"sentence\": \"They also have the best cheese crisp in town.\", \"opacity\": 0.6829092502593994, \"prob\": \"0.68\", \"pred\": \"Positive\"}, {\"x_raw\": -77.04573822021484, \"y_raw\": -31.456762313842773, \"x_interm\": 19.357107162475586, \"y_interm\": -15.236542701721191, \"x_proc\": 14.06727123260498, \"y_proc\": -13.201705932617188, \"sentence\": \"Good product, good seller.\", \"opacity\": 0.32745999097824097, \"prob\": \"0.33\", \"pred\": \"Positive\"}, {\"x_raw\": -57.25168228149414, \"y_raw\": 3.324714422225952, \"x_interm\": 64.98121643066406, \"y_interm\": 41.19869613647461, \"x_proc\": -7.654233932495117, \"y_proc\": -98.21019744873047, \"sentence\": \"I believe that Pitch Black was done well.  \", \"opacity\": 0.9758880138397217, \"prob\": \"0.98\", \"pred\": \"Positive\"}, {\"x_raw\": 80.23674774169922, \"y_raw\": 69.94319915771484, \"x_interm\": -87.51055908203125, \"y_interm\": -69.2153091430664, \"x_proc\": -11.769021034240723, \"y_proc\": 85.34463500976562, \"sentence\": \"Then scene where they debated whether or not to sack the trumpeter (who falsely was accused for the murder) is pure horror, really stupid.  \", \"opacity\": 0.9657132625579834, \"prob\": \"-0.97\", \"pred\": \"Negative\"}, {\"x_raw\": -89.06993103027344, \"y_raw\": -46.37409973144531, \"x_interm\": -111.87847137451172, \"y_interm\": -67.6308364868164, \"x_proc\": -20.216976165771484, \"y_proc\": 103.49119567871094, \"sentence\": \"Sprint - terrible customer service.\", \"opacity\": 1.193078875541687, \"prob\": \"-1.19\", \"pred\": \"Negative\"}, {\"x_raw\": -38.98447036743164, \"y_raw\": -4.663916110992432, \"x_interm\": -40.1321907043457, \"y_interm\": -22.839529037475586, \"x_proc\": -31.370620727539062, \"y_proc\": 26.92747688293457, \"sentence\": \"Otherwise, easy to install and use, clear sound.\", \"opacity\": 0.38308170437812805, \"prob\": \"-0.38\", \"pred\": \"Negative\"}, {\"x_raw\": 22.66445541381836, \"y_raw\": 22.020275115966797, \"x_interm\": 32.073280334472656, \"y_interm\": 98.8332748413086, \"x_proc\": 54.96989440917969, \"y_proc\": -99.88337707519531, \"sentence\": \"Their monster chicken fried steak and eggs is my all time favorite.\", \"opacity\": 1.119768500328064, \"prob\": \"1.12\", \"pred\": \"Positive\"}, {\"x_raw\": 69.83119201660156, \"y_raw\": 52.31056213378906, \"x_interm\": 91.72988891601562, \"y_interm\": 84.72130584716797, \"x_proc\": 16.46519660949707, \"y_proc\": -123.22137451171875, \"sentence\": \"It's also great to see that renowned silent screenwriter Frances Marion hasn't missed a step going from silent to sound.  \", \"opacity\": 1.3069406747817993, \"prob\": \"1.31\", \"pred\": \"Positive\"}, {\"x_raw\": 68.78173065185547, \"y_raw\": 88.36225128173828, \"x_interm\": -3.5250673294067383, \"y_interm\": -17.99559211730957, \"x_proc\": 26.310829162597656, \"y_proc\": 4.667932510375977, \"sentence\": \"That being said, for a phone, the camera is very nice; many cool effects to play with, and video is decent as well.\", \"opacity\": 0.14899305999279022, \"prob\": \"0.15\", \"pred\": \"Positive\"}, {\"x_raw\": -29.839832305908203, \"y_raw\": 17.018857955932617, \"x_interm\": -134.85142517089844, \"y_interm\": -77.85828399658203, \"x_proc\": -8.286474227905273, \"y_proc\": 121.15559387207031, \"sentence\": \"I am a fan of his ... This movie sucked really bad.  \", \"opacity\": 1.4749494791030884, \"prob\": \"-1.47\", \"pred\": \"Negative\"}, {\"x_raw\": 90.50592041015625, \"y_raw\": 47.13300704956055, \"x_interm\": -93.03038787841797, \"y_interm\": -95.24305725097656, \"x_proc\": -40.714805603027344, \"y_proc\": 108.79815673828125, \"sentence\": \"What is even more stupid is that who had thought an idea that there should be a volcano in Los Angeles?  \", \"opacity\": 1.326596975326538, \"prob\": \"-1.33\", \"pred\": \"Negative\"}, {\"x_raw\": -40.952884674072266, \"y_raw\": -25.16714859008789, \"x_interm\": -6.119325160980225, \"y_interm\": 1.6500242948532104, \"x_proc\": -5.16513204574585, \"y_proc\": -6.1629414558410645, \"sentence\": \"But this movie really got to me.  \", \"opacity\": 0.16033010184764862, \"prob\": \"0.16\", \"pred\": \"Positive\"}, {\"x_raw\": -93.7316665649414, \"y_raw\": -84.47584533691406, \"x_interm\": -122.8239974975586, \"y_interm\": -34.6996955871582, \"x_proc\": 2.0333096981048584, \"y_proc\": 101.40604400634766, \"sentence\": \"Awful.  \", \"opacity\": 1.1523106098175049, \"prob\": \"-1.15\", \"pred\": \"Negative\"}, {\"x_raw\": 40.6885986328125, \"y_raw\": 20.272010803222656, \"x_interm\": -77.2891616821289, \"y_interm\": -50.24222183227539, \"x_proc\": -45.51253890991211, \"y_proc\": 69.56636047363281, \"sentence\": \"Using all earpieces, left or right, this thing will not stay on my ear.\", \"opacity\": 0.9457604885101318, \"prob\": \"-0.95\", \"pred\": \"Negative\"}, {\"x_raw\": 58.27806091308594, \"y_raw\": 68.16876220703125, \"x_interm\": 54.968318939208984, \"y_interm\": 20.405149459838867, \"x_proc\": 47.182655334472656, \"y_proc\": -43.19466018676758, \"sentence\": \"Back to good BBQ, lighter fare, reasonable pricing and tell the public they are back to the old ways.\", \"opacity\": 0.7328150868415833, \"prob\": \"0.73\", \"pred\": \"Positive\"}, {\"x_raw\": 5.278039455413818, \"y_raw\": -33.4406852722168, \"x_interm\": 16.665996551513672, \"y_interm\": 5.233693599700928, \"x_proc\": 21.32737159729004, \"y_proc\": -30.496471405029297, \"sentence\": \"All in all, I'm quite satisfied with this purchase.\", \"opacity\": 0.5038080215454102, \"prob\": \"0.5\", \"pred\": \"Positive\"}, {\"x_raw\": -79.26217651367188, \"y_raw\": -65.9539566040039, \"x_interm\": 31.733299255371094, \"y_interm\": 19.638216018676758, \"x_proc\": 9.296335220336914, \"y_proc\": -43.9503288269043, \"sentence\": \"Great product, fast shipping!.\", \"opacity\": 0.5755881071090698, \"prob\": \"0.58\", \"pred\": \"Positive\"}, {\"x_raw\": -60.99312973022461, \"y_raw\": -17.989490509033203, \"x_interm\": 40.93893814086914, \"y_interm\": 2.826974868774414, \"x_proc\": 27.63132667541504, \"y_proc\": -47.77743911743164, \"sentence\": \"Hitchcock is a great director.  \", \"opacity\": 0.6753890514373779, \"prob\": \"0.68\", \"pred\": \"Positive\"}, {\"x_raw\": -50.49967575073242, \"y_raw\": -85.41277313232422, \"x_interm\": 53.5867805480957, \"y_interm\": 59.44191360473633, \"x_proc\": 10.685129165649414, \"y_proc\": -84.94914245605469, \"sentence\": \"Definitely a bargain.\", \"opacity\": 0.9479909539222717, \"prob\": \"0.95\", \"pred\": \"Positive\"}, {\"x_raw\": 29.57259750366211, \"y_raw\": 40.21633529663086, \"x_interm\": 19.28736114501953, \"y_interm\": 34.48490524291992, \"x_proc\": 0.3093447685241699, \"y_proc\": -27.37291717529297, \"sentence\": \"A very, very, very slow-moving, aimless movie about a distressed, drifting young man.  \", \"opacity\": 0.5069995522499084, \"prob\": \"0.51\", \"pred\": \"Positive\"}, {\"x_raw\": 6.975223064422607, \"y_raw\": 8.356305122375488, \"x_interm\": 12.913883209228516, \"y_interm\": 72.48072814941406, \"x_proc\": -22.593835830688477, \"y_proc\": -80.43391418457031, \"sentence\": \"But I recommend waiting for their future efforts, let this one go.  \", \"opacity\": 0.7853440046310425, \"prob\": \"0.79\", \"pred\": \"Positive\"}, {\"x_raw\": -16.444278717041016, \"y_raw\": -31.83637237548828, \"x_interm\": 78.14134979248047, \"y_interm\": 16.397981643676758, \"x_proc\": -3.6963260173797607, \"y_proc\": -74.58363342285156, \"sentence\": \"Great place fo take out or eat in.\", \"opacity\": 0.7627493143081665, \"prob\": \"0.76\", \"pred\": \"Positive\"}, {\"x_raw\": -39.113739013671875, \"y_raw\": -64.09496307373047, \"x_interm\": 4.883437156677246, \"y_interm\": 22.179048538208008, \"x_proc\": -29.74587631225586, \"y_proc\": -40.046817779541016, \"sentence\": \"The fries were great too.\", \"opacity\": 0.5879590511322021, \"prob\": \"0.59\", \"pred\": \"Positive\"}, {\"x_raw\": -101.74797058105469, \"y_raw\": -60.91696548461914, \"x_interm\": 39.22120666503906, \"y_interm\": 74.76077270507812, \"x_proc\": 58.23820114135742, \"y_proc\": -66.2997817993164, \"sentence\": \"Very very fun chef.\", \"opacity\": 0.95194411277771, \"prob\": \"0.95\", \"pred\": \"Positive\"}, {\"x_raw\": 76.1170883178711, \"y_raw\": 30.72691535949707, \"x_interm\": -90.13985443115234, \"y_interm\": -26.97231101989746, \"x_proc\": -32.20270919799805, \"y_proc\": 87.73016357421875, \"sentence\": \"At any rate this film stinks, its not funny, and Fulci should have stayed with giallo and supernatural zombie movies.  \", \"opacity\": 1.0114513635635376, \"prob\": \"-1.01\", \"pred\": \"Negative\"}, {\"x_raw\": 92.14718627929688, \"y_raw\": 90.66786193847656, \"x_interm\": 108.41283416748047, \"y_interm\": 62.95214080810547, \"x_proc\": 39.96000289916992, \"y_proc\": -119.99652862548828, \"sentence\": \"I had always known that Errol Flynn was a brilliant actor as he was my dads favourite actor, and I grew up watching his films as a child.  \", \"opacity\": 1.4347928762435913, \"prob\": \"1.43\", \"pred\": \"Positive\"}, {\"x_raw\": -70.91841125488281, \"y_raw\": -86.39588928222656, \"x_interm\": 29.161378860473633, \"y_interm\": 55.63945007324219, \"x_proc\": 26.4226016998291, \"y_proc\": -77.9969711303711, \"sentence\": \"It's pretty easy.\", \"opacity\": 0.8863709568977356, \"prob\": \"0.89\", \"pred\": \"Positive\"}, {\"x_raw\": 100.3575668334961, \"y_raw\": 67.45466613769531, \"x_interm\": -66.31304168701172, \"y_interm\": -82.46944427490234, \"x_proc\": -25.592077255249023, \"y_proc\": 70.66264343261719, \"sentence\": \"Not a single employee came out to see if we were OK or even needed a water refill once they finally served us our food.\", \"opacity\": 0.861544668674469, \"prob\": \"-0.86\", \"pred\": \"Negative\"}, {\"x_raw\": 27.797863006591797, \"y_raw\": 61.720829010009766, \"x_interm\": 76.1187973022461, \"y_interm\": 64.70446014404297, \"x_proc\": 12.431184768676758, \"y_proc\": -103.51692962646484, \"sentence\": \"Aailiyah was pretty good as Akasha, in places compelling (her first entrance and mini dance scene).  \", \"opacity\": 1.078240156173706, \"prob\": \"1.08\", \"pred\": \"Positive\"}]}}, {\"mode\": \"vega-lite\"});\n",
       "</script>"
      ],
      "text/plain": [
       "alt.Chart(...)"
      ]
     },
     "execution_count": 125,
     "metadata": {},
     "output_type": "execute_result"
    }
   ],
   "source": [
    "alt.Chart(data=tsne_plot_data).mark_circle(size=200).encode(\n",
    "    x = 'x_proc',\n",
    "    color = alt.Color('pred', \n",
    "                      legend=alt.Legend(symbolOpacity=1)),\n",
    "    opacity=alt.value(0.05)\n",
    ")"
   ]
  },
  {
   "cell_type": "code",
   "execution_count": 89,
   "metadata": {
    "scrolled": true
   },
   "outputs": [],
   "source": [
    "dummy_leg = alt.Chart(data=pd.DataFrame([[0,0,'Negative']], columns=['x', 'y', 'Prediction'])).mark_circle(size=0).encode(\n",
    "    x = 'x',\n",
    "    y = 'y',\n",
    "    color = alt.Color('Prediction', \n",
    "                      scale=alt.Scale(domain=['Negative', 'Positive'], \n",
    "                                      range=['red', 'green']))\n",
    ")"
   ]
  },
  {
   "cell_type": "code",
   "execution_count": 91,
   "metadata": {},
   "outputs": [
    {
     "data": {
      "text/html": [
       "\n",
       "<div id=\"altair-viz-09f2a5ef2bd245c6b54f31732773dbe0\"></div>\n",
       "<script type=\"text/javascript\">\n",
       "  (function(spec, embedOpt){\n",
       "    let outputDiv = document.currentScript.previousElementSibling;\n",
       "    if (outputDiv.id !== \"altair-viz-09f2a5ef2bd245c6b54f31732773dbe0\") {\n",
       "      outputDiv = document.getElementById(\"altair-viz-09f2a5ef2bd245c6b54f31732773dbe0\");\n",
       "    }\n",
       "    const paths = {\n",
       "      \"vega\": \"https://cdn.jsdelivr.net/npm//vega@5?noext\",\n",
       "      \"vega-lib\": \"https://cdn.jsdelivr.net/npm//vega-lib?noext\",\n",
       "      \"vega-lite\": \"https://cdn.jsdelivr.net/npm//vega-lite@4.8.1?noext\",\n",
       "      \"vega-embed\": \"https://cdn.jsdelivr.net/npm//vega-embed@6?noext\",\n",
       "    };\n",
       "\n",
       "    function loadScript(lib) {\n",
       "      return new Promise(function(resolve, reject) {\n",
       "        var s = document.createElement('script');\n",
       "        s.src = paths[lib];\n",
       "        s.async = true;\n",
       "        s.onload = () => resolve(paths[lib]);\n",
       "        s.onerror = () => reject(`Error loading script: ${paths[lib]}`);\n",
       "        document.getElementsByTagName(\"head\")[0].appendChild(s);\n",
       "      });\n",
       "    }\n",
       "\n",
       "    function showError(err) {\n",
       "      outputDiv.innerHTML = `<div class=\"error\" style=\"color:red;\">${err}</div>`;\n",
       "      throw err;\n",
       "    }\n",
       "\n",
       "    function displayChart(vegaEmbed) {\n",
       "      vegaEmbed(outputDiv, spec, embedOpt)\n",
       "        .catch(err => showError(`Javascript Error: ${err.message}<br>This usually means there's a typo in your chart specification. See the javascript console for the full traceback.`));\n",
       "    }\n",
       "\n",
       "    if(typeof define === \"function\" && define.amd) {\n",
       "      requirejs.config({paths});\n",
       "      require([\"vega-embed\"], displayChart, err => showError(`Error loading script: ${err.message}`));\n",
       "    } else if (typeof vegaEmbed === \"function\") {\n",
       "      displayChart(vegaEmbed);\n",
       "    } else {\n",
       "      loadScript(\"vega\")\n",
       "        .then(() => loadScript(\"vega-lite\"))\n",
       "        .then(() => loadScript(\"vega-embed\"))\n",
       "        .catch(showError)\n",
       "        .then(() => displayChart(vegaEmbed));\n",
       "    }\n",
       "  })({\"config\": {\"view\": {\"continuousWidth\": 400, \"continuousHeight\": 300}}, \"vconcat\": [{\"layer\": [{\"data\": {\"name\": \"data-fddaa0b8c5c25d911b6d8e74c717d6d9\"}, \"mark\": {\"type\": \"circle\", \"size\": 200}, \"encoding\": {\"color\": {\"type\": \"nominal\", \"field\": \"pred\", \"legend\": null, \"scale\": {\"domain\": [\"Negative\", \"Positive\"], \"range\": [\"red\", \"green\"]}}, \"opacity\": {\"condition\": {\"type\": \"quantitative\", \"field\": \"opacity\", \"legend\": null, \"selection\": \"selector001\"}, \"value\": 0.05}, \"tooltip\": [{\"type\": \"nominal\", \"field\": \"sentence\"}, {\"type\": \"nominal\", \"field\": \"prob\"}], \"x\": {\"type\": \"quantitative\", \"field\": \"x_raw\"}, \"y\": {\"type\": \"quantitative\", \"field\": \"y_raw\"}}, \"selection\": {\"selector001\": {\"type\": \"interval\", \"empty\": \"all\", \"encodings\": [\"x\", \"y\"]}}, \"title\": \"Raw sentences\"}, {\"data\": {\"name\": \"data-e3a3de37b4068484f6004476f8c1e7be\"}, \"mark\": {\"type\": \"circle\", \"size\": 0}, \"encoding\": {\"color\": {\"type\": \"nominal\", \"field\": \"Prediction\", \"scale\": {\"domain\": [\"Negative\", \"Positive\"], \"range\": [\"red\", \"green\"]}}, \"x\": {\"type\": \"quantitative\", \"field\": \"x\"}, \"y\": {\"type\": \"quantitative\", \"field\": \"y\"}}}]}, {\"data\": {\"name\": \"data-fddaa0b8c5c25d911b6d8e74c717d6d9\"}, \"mark\": {\"type\": \"circle\", \"size\": 200}, \"encoding\": {\"color\": {\"type\": \"nominal\", \"field\": \"pred\", \"legend\": null, \"scale\": {\"domain\": [\"Negative\", \"Positive\"], \"range\": [\"red\", \"green\"]}}, \"opacity\": {\"condition\": {\"type\": \"quantitative\", \"field\": \"opacity\", \"legend\": null, \"selection\": \"selector001\"}, \"value\": 0.05}, \"tooltip\": [{\"type\": \"nominal\", \"field\": \"sentence\"}, {\"type\": \"nominal\", \"field\": \"prob\"}], \"x\": {\"type\": \"quantitative\", \"field\": \"x_interm\"}, \"y\": {\"type\": \"quantitative\", \"field\": \"y_interm\"}}, \"selection\": {\"selector001\": {\"type\": \"interval\", \"empty\": \"all\", \"encodings\": [\"x\", \"y\"]}}, \"title\": \"Intermediate state sentences\"}, {\"data\": {\"name\": \"data-fddaa0b8c5c25d911b6d8e74c717d6d9\"}, \"mark\": {\"type\": \"circle\", \"size\": 200}, \"encoding\": {\"color\": {\"type\": \"nominal\", \"field\": \"pred\", \"legend\": null, \"scale\": {\"domain\": [\"Negative\", \"Positive\"], \"range\": [\"red\", \"green\"]}}, \"opacity\": {\"condition\": {\"type\": \"quantitative\", \"field\": \"opacity\", \"legend\": null, \"selection\": \"selector001\"}, \"value\": 0.05}, \"tooltip\": [{\"type\": \"nominal\", \"field\": \"sentence\"}, {\"type\": \"nominal\", \"field\": \"prob\"}], \"x\": {\"type\": \"quantitative\", \"field\": \"x_proc\"}, \"y\": {\"type\": \"quantitative\", \"field\": \"y_proc\"}}, \"selection\": {\"selector001\": {\"type\": \"interval\", \"empty\": \"all\", \"encodings\": [\"x\", \"y\"]}}, \"title\": \"Processed sentences\"}], \"$schema\": \"https://vega.github.io/schema/vega-lite/v4.8.1.json\", \"datasets\": {\"data-fddaa0b8c5c25d911b6d8e74c717d6d9\": [{\"x_raw\": -32.27500915527344, \"y_raw\": -42.274356842041016, \"x_interm\": -63.60780334472656, \"y_interm\": -30.2216739654541, \"x_proc\": 14.797008514404297, \"y_proc\": 56.575767517089844, \"sentence\": \"There is nothing authentic about this place.\", \"opacity\": 0.5618886351585388, \"prob\": \"-0.56\", \"pred\": \"Negative\"}, {\"x_raw\": -59.52629470825195, \"y_raw\": -67.56237030029297, \"x_interm\": 60.16180419921875, \"y_interm\": 87.83397674560547, \"x_proc\": 31.665281295776367, \"y_proc\": -99.01710510253906, \"sentence\": \"I rate this movie 9/10.  \", \"opacity\": 1.1452341079711914, \"prob\": \"1.15\", \"pred\": \"Positive\"}, {\"x_raw\": -101.6928482055664, \"y_raw\": -30.152923583984375, \"x_interm\": -134.62391662597656, \"y_interm\": -53.2799072265625, \"x_proc\": -52.893924713134766, \"y_proc\": 92.18402862548828, \"sentence\": \"What a waste.\", \"opacity\": 1.2323559522628784, \"prob\": \"-1.23\", \"pred\": \"Negative\"}, {\"x_raw\": 46.35768508911133, \"y_raw\": 52.51860046386719, \"x_interm\": -57.757747650146484, \"y_interm\": -61.1395263671875, \"x_proc\": -6.83436918258667, \"y_proc\": 66.45964050292969, \"sentence\": \"If you like a loud buzzing to override all your conversations, then this phone is for you!\", \"opacity\": 0.7161597013473511, \"prob\": \"-0.72\", \"pred\": \"Negative\"}, {\"x_raw\": 31.36925506591797, \"y_raw\": 2.0960092544555664, \"x_interm\": -30.58966636657715, \"y_interm\": -52.01339340209961, \"x_proc\": -14.574645042419434, \"y_proc\": 36.16564178466797, \"sentence\": \"Not only will it drain your player, but may also potentially fry it.\", \"opacity\": 0.4205601215362549, \"prob\": \"-0.42\", \"pred\": \"Negative\"}, {\"x_raw\": -81.56859588623047, \"y_raw\": -11.492461204528809, \"x_interm\": 5.206063270568848, \"y_interm\": 50.0220832824707, \"x_proc\": 15.421102523803711, \"y_proc\": -62.65542984008789, \"sentence\": \"Dessert: Panna Cotta was amazing.\", \"opacity\": 0.6748781204223633, \"prob\": \"0.67\", \"pred\": \"Positive\"}, {\"x_raw\": 55.675437927246094, \"y_raw\": 7.698522567749023, \"x_interm\": -117.27149200439453, \"y_interm\": -93.6539306640625, \"x_proc\": -29.411365509033203, \"y_proc\": 125.85707092285156, \"sentence\": \"in addition it feels &amp; looks as if the phone is all lightweight cheap plastic.\", \"opacity\": 1.5631605386734009, \"prob\": \"-1.56\", \"pred\": \"Negative\"}, {\"x_raw\": -7.027792930603027, \"y_raw\": 21.65282440185547, \"x_interm\": -47.88307571411133, \"y_interm\": -42.87201690673828, \"x_proc\": -2.509509563446045, \"y_proc\": 48.89175796508789, \"sentence\": \"This is one of the better buffets that I have been to.\", \"opacity\": 0.5033522844314575, \"prob\": \"-0.5\", \"pred\": \"Negative\"}, {\"x_raw\": 45.20484161376953, \"y_raw\": 83.52833557128906, \"x_interm\": -14.370077133178711, \"y_interm\": 60.63291549682617, \"x_proc\": -22.254289627075195, \"y_proc\": -59.17376708984375, \"sentence\": \"I have been in more than a few bars in Vegas, and do not ever recall being charged for tap water.\", \"opacity\": 0.5723520517349243, \"prob\": \"0.57\", \"pred\": \"Positive\"}, {\"x_raw\": -24.039716720581055, \"y_raw\": -13.907270431518555, \"x_interm\": 44.2631950378418, \"y_interm\": -18.278501510620117, \"x_proc\": 37.34305191040039, \"y_proc\": -20.28667640686035, \"sentence\": \"But I definitely would not eat here again.\", \"opacity\": 0.4597845673561096, \"prob\": \"0.46\", \"pred\": \"Positive\"}, {\"x_raw\": -69.6914291381836, \"y_raw\": -49.964439392089844, \"x_interm\": 3.3849000930786133, \"y_interm\": -38.6292724609375, \"x_proc\": -24.233243942260742, \"y_proc\": 4.080174446105957, \"sentence\": \"It looks very nice.\", \"opacity\": 0.02709808573126793, \"prob\": \"0.03\", \"pred\": \"Positive\"}, {\"x_raw\": -50.76976776123047, \"y_raw\": -51.01628875732422, \"x_interm\": -36.966121673583984, \"y_interm\": -76.62652587890625, \"x_proc\": -23.340778350830078, \"y_proc\": 52.34060287475586, \"sentence\": \"You won't be disappointed.\", \"opacity\": 0.5849907994270325, \"prob\": \"-0.58\", \"pred\": \"Negative\"}, {\"x_raw\": -18.877614974975586, \"y_raw\": -62.617164611816406, \"x_interm\": 42.638877868652344, \"y_interm\": 39.62638473510742, \"x_proc\": 37.459739685058594, \"y_proc\": -63.140106201171875, \"sentence\": \"It was awesome.\", \"opacity\": 0.8419160842895508, \"prob\": \"0.84\", \"pred\": \"Positive\"}, {\"x_raw\": 8.40145206451416, \"y_raw\": 33.884944915771484, \"x_interm\": -19.909887313842773, \"y_interm\": -31.88994789123535, \"x_proc\": -8.957818031311035, \"y_proc\": 17.373247146606445, \"sentence\": \"By the time the film ended, I not only disliked it, I despised it.  \", \"opacity\": 0.07901552319526672, \"prob\": \"-0.08\", \"pred\": \"Negative\"}, {\"x_raw\": 13.963362693786621, \"y_raw\": -10.424395561218262, \"x_interm\": -57.833892822265625, \"y_interm\": -7.284683704376221, \"x_proc\": -40.92026901245117, \"y_proc\": 44.02006530761719, \"sentence\": \"It didn't work, people can not hear me when I talk.\", \"opacity\": 0.442654013633728, \"prob\": \"-0.44\", \"pred\": \"Negative\"}, {\"x_raw\": -57.15562438964844, \"y_raw\": -35.358577728271484, \"x_interm\": -26.167970657348633, \"y_interm\": -1.2294100522994995, \"x_proc\": 7.529969215393066, \"y_proc\": 7.812729358673096, \"sentence\": \"Service is friendly and inviting.\", \"opacity\": 0.09891323745250702, \"prob\": \"0.1\", \"pred\": \"Positive\"}, {\"x_raw\": -28.44856834411621, \"y_raw\": -83.36343383789062, \"x_interm\": -100.29103088378906, \"y_interm\": -47.695831298828125, \"x_proc\": 8.8687105178833, \"y_proc\": 79.83358001708984, \"sentence\": \"The problem was the script.  \", \"opacity\": 0.8859145045280457, \"prob\": \"-0.89\", \"pred\": \"Negative\"}, {\"x_raw\": 53.381317138671875, \"y_raw\": 35.428192138671875, \"x_interm\": -10.61242389678955, \"y_interm\": -59.310970306396484, \"x_proc\": 8.711186408996582, \"y_proc\": 31.538902282714844, \"sentence\": \"Att is not clear, sound is very distorted and you have to yell when you talk.\", \"opacity\": 0.2516259253025055, \"prob\": \"-0.25\", \"pred\": \"Negative\"}, {\"x_raw\": 3.4193713665008545, \"y_raw\": 52.1235466003418, \"x_interm\": 87.88978576660156, \"y_interm\": 41.653160095214844, \"x_proc\": 45.123863220214844, \"y_proc\": -82.86819458007812, \"sentence\": \"When I opened the sandwich, I was impressed, but not in a good way.\", \"opacity\": 1.0532639026641846, \"prob\": \"1.05\", \"pred\": \"Positive\"}, {\"x_raw\": -21.37702751159668, \"y_raw\": 37.54255294799805, \"x_interm\": 27.20111083984375, \"y_interm\": -38.68433380126953, \"x_proc\": -21.201744079589844, \"y_proc\": -16.823684692382812, \"sentence\": \"I was disgusted because I was pretty sure that was human hair.\", \"opacity\": 0.18272750079631805, \"prob\": \"0.18\", \"pred\": \"Positive\"}, {\"x_raw\": -12.647648811340332, \"y_raw\": 2.5736637115478516, \"x_interm\": -16.032609939575195, \"y_interm\": 32.64040756225586, \"x_proc\": -10.553506851196289, \"y_proc\": -41.34281539916992, \"sentence\": \"Overall I was not impressed and would not go back.\", \"opacity\": 0.5738428831100464, \"prob\": \"0.57\", \"pred\": \"Positive\"}, {\"x_raw\": -6.120787620544434, \"y_raw\": -16.08000373840332, \"x_interm\": 66.03221130371094, \"y_interm\": -3.396045446395874, \"x_proc\": -2.0134103298187256, \"y_proc\": -57.60773849487305, \"sentence\": \"They also have the best cheese crisp in town.\", \"opacity\": 0.6829092502593994, \"prob\": \"0.68\", \"pred\": \"Positive\"}, {\"x_raw\": -77.04573822021484, \"y_raw\": -31.456762313842773, \"x_interm\": 19.357107162475586, \"y_interm\": -15.236542701721191, \"x_proc\": 14.06727123260498, \"y_proc\": -13.201705932617188, \"sentence\": \"Good product, good seller.\", \"opacity\": 0.32745999097824097, \"prob\": \"0.33\", \"pred\": \"Positive\"}, {\"x_raw\": -57.25168228149414, \"y_raw\": 3.324714422225952, \"x_interm\": 64.98121643066406, \"y_interm\": 41.19869613647461, \"x_proc\": -7.654233932495117, \"y_proc\": -98.21019744873047, \"sentence\": \"I believe that Pitch Black was done well.  \", \"opacity\": 0.9758880138397217, \"prob\": \"0.98\", \"pred\": \"Positive\"}, {\"x_raw\": 80.23674774169922, \"y_raw\": 69.94319915771484, \"x_interm\": -87.51055908203125, \"y_interm\": -69.2153091430664, \"x_proc\": -11.769021034240723, \"y_proc\": 85.34463500976562, \"sentence\": \"Then scene where they debated whether or not to sack the trumpeter (who falsely was accused for the murder) is pure horror, really stupid.  \", \"opacity\": 0.9657132625579834, \"prob\": \"-0.97\", \"pred\": \"Negative\"}, {\"x_raw\": -89.06993103027344, \"y_raw\": -46.37409973144531, \"x_interm\": -111.87847137451172, \"y_interm\": -67.6308364868164, \"x_proc\": -20.216976165771484, \"y_proc\": 103.49119567871094, \"sentence\": \"Sprint - terrible customer service.\", \"opacity\": 1.193078875541687, \"prob\": \"-1.19\", \"pred\": \"Negative\"}, {\"x_raw\": -38.98447036743164, \"y_raw\": -4.663916110992432, \"x_interm\": -40.1321907043457, \"y_interm\": -22.839529037475586, \"x_proc\": -31.370620727539062, \"y_proc\": 26.92747688293457, \"sentence\": \"Otherwise, easy to install and use, clear sound.\", \"opacity\": 0.38308170437812805, \"prob\": \"-0.38\", \"pred\": \"Negative\"}, {\"x_raw\": 22.66445541381836, \"y_raw\": 22.020275115966797, \"x_interm\": 32.073280334472656, \"y_interm\": 98.8332748413086, \"x_proc\": 54.96989440917969, \"y_proc\": -99.88337707519531, \"sentence\": \"Their monster chicken fried steak and eggs is my all time favorite.\", \"opacity\": 1.119768500328064, \"prob\": \"1.12\", \"pred\": \"Positive\"}, {\"x_raw\": 69.83119201660156, \"y_raw\": 52.31056213378906, \"x_interm\": 91.72988891601562, \"y_interm\": 84.72130584716797, \"x_proc\": 16.46519660949707, \"y_proc\": -123.22137451171875, \"sentence\": \"It's also great to see that renowned silent screenwriter Frances Marion hasn't missed a step going from silent to sound.  \", \"opacity\": 1.3069406747817993, \"prob\": \"1.31\", \"pred\": \"Positive\"}, {\"x_raw\": 68.78173065185547, \"y_raw\": 88.36225128173828, \"x_interm\": -3.5250673294067383, \"y_interm\": -17.99559211730957, \"x_proc\": 26.310829162597656, \"y_proc\": 4.667932510375977, \"sentence\": \"That being said, for a phone, the camera is very nice; many cool effects to play with, and video is decent as well.\", \"opacity\": 0.14899305999279022, \"prob\": \"0.15\", \"pred\": \"Positive\"}, {\"x_raw\": -29.839832305908203, \"y_raw\": 17.018857955932617, \"x_interm\": -134.85142517089844, \"y_interm\": -77.85828399658203, \"x_proc\": -8.286474227905273, \"y_proc\": 121.15559387207031, \"sentence\": \"I am a fan of his ... This movie sucked really bad.  \", \"opacity\": 1.4749494791030884, \"prob\": \"-1.47\", \"pred\": \"Negative\"}, {\"x_raw\": 90.50592041015625, \"y_raw\": 47.13300704956055, \"x_interm\": -93.03038787841797, \"y_interm\": -95.24305725097656, \"x_proc\": -40.714805603027344, \"y_proc\": 108.79815673828125, \"sentence\": \"What is even more stupid is that who had thought an idea that there should be a volcano in Los Angeles?  \", \"opacity\": 1.326596975326538, \"prob\": \"-1.33\", \"pred\": \"Negative\"}, {\"x_raw\": -40.952884674072266, \"y_raw\": -25.16714859008789, \"x_interm\": -6.119325160980225, \"y_interm\": 1.6500242948532104, \"x_proc\": -5.16513204574585, \"y_proc\": -6.1629414558410645, \"sentence\": \"But this movie really got to me.  \", \"opacity\": 0.16033010184764862, \"prob\": \"0.16\", \"pred\": \"Positive\"}, {\"x_raw\": -93.7316665649414, \"y_raw\": -84.47584533691406, \"x_interm\": -122.8239974975586, \"y_interm\": -34.6996955871582, \"x_proc\": 2.0333096981048584, \"y_proc\": 101.40604400634766, \"sentence\": \"Awful.  \", \"opacity\": 1.1523106098175049, \"prob\": \"-1.15\", \"pred\": \"Negative\"}, {\"x_raw\": 40.6885986328125, \"y_raw\": 20.272010803222656, \"x_interm\": -77.2891616821289, \"y_interm\": -50.24222183227539, \"x_proc\": -45.51253890991211, \"y_proc\": 69.56636047363281, \"sentence\": \"Using all earpieces, left or right, this thing will not stay on my ear.\", \"opacity\": 0.9457604885101318, \"prob\": \"-0.95\", \"pred\": \"Negative\"}, {\"x_raw\": 58.27806091308594, \"y_raw\": 68.16876220703125, \"x_interm\": 54.968318939208984, \"y_interm\": 20.405149459838867, \"x_proc\": 47.182655334472656, \"y_proc\": -43.19466018676758, \"sentence\": \"Back to good BBQ, lighter fare, reasonable pricing and tell the public they are back to the old ways.\", \"opacity\": 0.7328150868415833, \"prob\": \"0.73\", \"pred\": \"Positive\"}, {\"x_raw\": 5.278039455413818, \"y_raw\": -33.4406852722168, \"x_interm\": 16.665996551513672, \"y_interm\": 5.233693599700928, \"x_proc\": 21.32737159729004, \"y_proc\": -30.496471405029297, \"sentence\": \"All in all, I'm quite satisfied with this purchase.\", \"opacity\": 0.5038080215454102, \"prob\": \"0.5\", \"pred\": \"Positive\"}, {\"x_raw\": -79.26217651367188, \"y_raw\": -65.9539566040039, \"x_interm\": 31.733299255371094, \"y_interm\": 19.638216018676758, \"x_proc\": 9.296335220336914, \"y_proc\": -43.9503288269043, \"sentence\": \"Great product, fast shipping!.\", \"opacity\": 0.5755881071090698, \"prob\": \"0.58\", \"pred\": \"Positive\"}, {\"x_raw\": -60.99312973022461, \"y_raw\": -17.989490509033203, \"x_interm\": 40.93893814086914, \"y_interm\": 2.826974868774414, \"x_proc\": 27.63132667541504, \"y_proc\": -47.77743911743164, \"sentence\": \"Hitchcock is a great director.  \", \"opacity\": 0.6753890514373779, \"prob\": \"0.68\", \"pred\": \"Positive\"}, {\"x_raw\": -50.49967575073242, \"y_raw\": -85.41277313232422, \"x_interm\": 53.5867805480957, \"y_interm\": 59.44191360473633, \"x_proc\": 10.685129165649414, \"y_proc\": -84.94914245605469, \"sentence\": \"Definitely a bargain.\", \"opacity\": 0.9479909539222717, \"prob\": \"0.95\", \"pred\": \"Positive\"}, {\"x_raw\": 29.57259750366211, \"y_raw\": 40.21633529663086, \"x_interm\": 19.28736114501953, \"y_interm\": 34.48490524291992, \"x_proc\": 0.3093447685241699, \"y_proc\": -27.37291717529297, \"sentence\": \"A very, very, very slow-moving, aimless movie about a distressed, drifting young man.  \", \"opacity\": 0.5069995522499084, \"prob\": \"0.51\", \"pred\": \"Positive\"}, {\"x_raw\": 6.975223064422607, \"y_raw\": 8.356305122375488, \"x_interm\": 12.913883209228516, \"y_interm\": 72.48072814941406, \"x_proc\": -22.593835830688477, \"y_proc\": -80.43391418457031, \"sentence\": \"But I recommend waiting for their future efforts, let this one go.  \", \"opacity\": 0.7853440046310425, \"prob\": \"0.79\", \"pred\": \"Positive\"}, {\"x_raw\": -16.444278717041016, \"y_raw\": -31.83637237548828, \"x_interm\": 78.14134979248047, \"y_interm\": 16.397981643676758, \"x_proc\": -3.6963260173797607, \"y_proc\": -74.58363342285156, \"sentence\": \"Great place fo take out or eat in.\", \"opacity\": 0.7627493143081665, \"prob\": \"0.76\", \"pred\": \"Positive\"}, {\"x_raw\": -39.113739013671875, \"y_raw\": -64.09496307373047, \"x_interm\": 4.883437156677246, \"y_interm\": 22.179048538208008, \"x_proc\": -29.74587631225586, \"y_proc\": -40.046817779541016, \"sentence\": \"The fries were great too.\", \"opacity\": 0.5879590511322021, \"prob\": \"0.59\", \"pred\": \"Positive\"}, {\"x_raw\": -101.74797058105469, \"y_raw\": -60.91696548461914, \"x_interm\": 39.22120666503906, \"y_interm\": 74.76077270507812, \"x_proc\": 58.23820114135742, \"y_proc\": -66.2997817993164, \"sentence\": \"Very very fun chef.\", \"opacity\": 0.95194411277771, \"prob\": \"0.95\", \"pred\": \"Positive\"}, {\"x_raw\": 76.1170883178711, \"y_raw\": 30.72691535949707, \"x_interm\": -90.13985443115234, \"y_interm\": -26.97231101989746, \"x_proc\": -32.20270919799805, \"y_proc\": 87.73016357421875, \"sentence\": \"At any rate this film stinks, its not funny, and Fulci should have stayed with giallo and supernatural zombie movies.  \", \"opacity\": 1.0114513635635376, \"prob\": \"-1.01\", \"pred\": \"Negative\"}, {\"x_raw\": 92.14718627929688, \"y_raw\": 90.66786193847656, \"x_interm\": 108.41283416748047, \"y_interm\": 62.95214080810547, \"x_proc\": 39.96000289916992, \"y_proc\": -119.99652862548828, \"sentence\": \"I had always known that Errol Flynn was a brilliant actor as he was my dads favourite actor, and I grew up watching his films as a child.  \", \"opacity\": 1.4347928762435913, \"prob\": \"1.43\", \"pred\": \"Positive\"}, {\"x_raw\": -70.91841125488281, \"y_raw\": -86.39588928222656, \"x_interm\": 29.161378860473633, \"y_interm\": 55.63945007324219, \"x_proc\": 26.4226016998291, \"y_proc\": -77.9969711303711, \"sentence\": \"It's pretty easy.\", \"opacity\": 0.8863709568977356, \"prob\": \"0.89\", \"pred\": \"Positive\"}, {\"x_raw\": 100.3575668334961, \"y_raw\": 67.45466613769531, \"x_interm\": -66.31304168701172, \"y_interm\": -82.46944427490234, \"x_proc\": -25.592077255249023, \"y_proc\": 70.66264343261719, \"sentence\": \"Not a single employee came out to see if we were OK or even needed a water refill once they finally served us our food.\", \"opacity\": 0.861544668674469, \"prob\": \"-0.86\", \"pred\": \"Negative\"}, {\"x_raw\": 27.797863006591797, \"y_raw\": 61.720829010009766, \"x_interm\": 76.1187973022461, \"y_interm\": 64.70446014404297, \"x_proc\": 12.431184768676758, \"y_proc\": -103.51692962646484, \"sentence\": \"Aailiyah was pretty good as Akasha, in places compelling (her first entrance and mini dance scene).  \", \"opacity\": 1.078240156173706, \"prob\": \"1.08\", \"pred\": \"Positive\"}], \"data-e3a3de37b4068484f6004476f8c1e7be\": [{\"x\": 0, \"y\": 0, \"Prediction\": \"Negative\"}]}}, {\"mode\": \"vega-lite\"});\n",
       "</script>"
      ],
      "text/plain": [
       "alt.VConcatChart(...)"
      ]
     },
     "execution_count": 91,
     "metadata": {},
     "output_type": "execute_result"
    }
   ],
   "source": [
    "(words_tsned + dummy_leg) & interm_tsned & sentences_tsned"
   ]
  },
  {
   "cell_type": "code",
   "execution_count": null,
   "metadata": {},
   "outputs": [],
   "source": []
  }
 ],
 "metadata": {
  "kernelspec": {
   "display_name": "Python 3",
   "language": "python",
   "name": "python3"
  },
  "language_info": {
   "codemirror_mode": {
    "name": "ipython",
    "version": 3
   },
   "file_extension": ".py",
   "mimetype": "text/x-python",
   "name": "python",
   "nbconvert_exporter": "python",
   "pygments_lexer": "ipython3",
   "version": "3.7.3"
  }
 },
 "nbformat": 4,
 "nbformat_minor": 4
}
